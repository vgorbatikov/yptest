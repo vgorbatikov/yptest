{
 "cells": [
  {
   "cell_type": "markdown",
   "metadata": {},
   "source": [
    "<div style=\"border:solid purple 2px; padding: 20px\"> \n",
    "\n",
    "Привет Валерий! 👋\n",
    "\n",
    "Меня зовут Рустам Муртазин, и я буду делать ревью твоей работы. Давай будем общаться на **«ты»**. Если это неприемлемо, обязательно напиши мне в комментариях — мы перейдем на **«вы»**.\n",
    "\n",
    "Я не хочу указавать тебе на совершенные тобою ошибки, а хочу поделиться своим опытом и помочь тебе стать настоящим профессионалом и сделать проект еще лучше.\n",
    "\n",
    "Обрати внимание в первую очередь на те, что помечаны <span style=\"color:red\">красным цветом</span>. После их доработки проект будет принят. <span style=\"color:green\">Зеленым цветом</span> отмечены удачные и элегантные решения, на которые можно опираться в будущих проектах. <span style=\"color:orange\">Оранжевым цветом</span> выделено то, что в следующий раз можно сделать по-другому. Ты можешь учесть эти комментарии при выполнении будущих заданий или доработать проект сейчас (однако это не обязательно). Также в проекте могут быть небольшие «лайфхаки» по Python, не относящиеся к проекту, их я выделил фиолетовым цветом)\n",
    "\n",
    "Давай работать над проектом в диалоге: если ты **что-то меняешь** в проекте по моим рекомендациям — **пиши об этом**. Выбери для своих комментариев какой-то заметный цвет, так мне будет легче отследить изменения. Пожалуйста, **не перемещай, не изменяй и не удаляй мои комментарии**. Всё это поможет выполнить повторную проверку твоего проекта оперативнее».\n",
    "\n",
    "Мне понравился твой проект, есть пару замечаний, но их не много, я думаю ты быстро справишься. Жду твою работу на повторное ревью :)"
   ]
  },
  {
   "cell_type": "markdown",
   "metadata": {
    "toc": true
   },
   "source": [
    "<h1>Содержание<span class=\"tocSkip\"></span></h1>\n",
    "<div class=\"toc\"><ul class=\"toc-item\"><li><span><a href=\"#Введение\" data-toc-modified-id=\"Введение-1\"><span class=\"toc-item-num\">1&nbsp;&nbsp;</span>Введение</a></span></li><li><span><a href=\"#Подготовка-данных\" data-toc-modified-id=\"Подготовка-данных-2\"><span class=\"toc-item-num\">2&nbsp;&nbsp;</span>Подготовка данных</a></span></li><li><span><a href=\"#Вывод\" data-toc-modified-id=\"Вывод-3\"><span class=\"toc-item-num\">3&nbsp;&nbsp;</span>Вывод</a></span></li><li><span><a href=\"#Исследование-задачи\" data-toc-modified-id=\"Исследование-задачи-4\"><span class=\"toc-item-num\">4&nbsp;&nbsp;</span>Исследование задачи</a></span></li><li><span><a href=\"#Вывод\" data-toc-modified-id=\"Вывод-5\"><span class=\"toc-item-num\">5&nbsp;&nbsp;</span>Вывод</a></span></li><li><span><a href=\"#Борьба-с-дисбалансом\" data-toc-modified-id=\"Борьба-с-дисбалансом-6\"><span class=\"toc-item-num\">6&nbsp;&nbsp;</span>Борьба с дисбалансом</a></span></li><li><span><a href=\"#Вывод\" data-toc-modified-id=\"Вывод-7\"><span class=\"toc-item-num\">7&nbsp;&nbsp;</span>Вывод</a></span></li><li><span><a href=\"#Тестирование-модели\" data-toc-modified-id=\"Тестирование-модели-8\"><span class=\"toc-item-num\">8&nbsp;&nbsp;</span>Тестирование модели</a></span></li><li><span><a href=\"#Вывод\" data-toc-modified-id=\"Вывод-9\"><span class=\"toc-item-num\">9&nbsp;&nbsp;</span>Вывод</a></span></li><li><span><a href=\"#Чек-лист-готовности-проекта\" data-toc-modified-id=\"Чек-лист-готовности-проекта-10\"><span class=\"toc-item-num\">10&nbsp;&nbsp;</span>Чек-лист готовности проекта</a></span></li></ul></div>"
   ]
  },
  {
   "cell_type": "markdown",
   "metadata": {},
   "source": [
    "# Отток клиентов"
   ]
  },
  {
   "cell_type": "markdown",
   "metadata": {},
   "source": [
    "Из «Бета-Банка» стали уходить клиенты. Каждый месяц. Немного, но заметно. Банковские маркетологи посчитали: сохранять текущих клиентов дешевле, чем привлекать новых.\n",
    "\n",
    "Нужно спрогнозировать, уйдёт клиент из банка в ближайшее время или нет. Вам предоставлены исторические данные о поведении клиентов и расторжении договоров с банком. \n",
    "\n",
    "Постройте модель с предельно большим значением *F1*-меры. Чтобы сдать проект успешно, нужно довести метрику до 0.59. Проверьте *F1*-меру на тестовой выборке самостоятельно.\n",
    "\n",
    "Дополнительно измеряйте *AUC-ROC*, сравнивайте её значение с *F1*-мерой.\n",
    "\n",
    "Источник данных: [https://www.kaggle.com/barelydedicated/bank-customer-churn-modeling](https://www.kaggle.com/barelydedicated/bank-customer-churn-modeling)"
   ]
  },
  {
   "cell_type": "markdown",
   "metadata": {},
   "source": [
    "## Введение"
   ]
  },
  {
   "cell_type": "markdown",
   "metadata": {},
   "source": [
    "По заданию отдела маркетинга «Бета-Банка» необходимо обучить модель, прогнозирующую отток клиентов. Для проверки качества модели нужно использовать метрики F1-меру и AUC-ROC. F1- мера модели кандидата должна быть не меньше 0.59."
   ]
  },
  {
   "cell_type": "markdown",
   "metadata": {},
   "source": [
    "## Подготовка данных"
   ]
  },
  {
   "cell_type": "code",
   "execution_count": 1,
   "metadata": {},
   "outputs": [],
   "source": [
    "import pandas as pd\n",
    "import numpy as np\n",
    "import matplotlib.pyplot as plt\n",
    "from sklearn.model_selection import train_test_split\n",
    "from sklearn.utils import shuffle\n",
    "from sklearn.preprocessing import StandardScaler\n",
    "\n",
    "from sklearn.tree import DecisionTreeClassifier\n",
    "from sklearn.ensemble import RandomForestClassifier\n",
    "from sklearn.linear_model import LogisticRegression\n",
    "\n",
    "from sklearn.metrics import f1_score, roc_auc_score, roc_curve, precision_score, recall_score\n",
    "\n",
    "pd.set_option('display.max_columns', None)"
   ]
  },
  {
   "cell_type": "code",
   "execution_count": 2,
   "metadata": {},
   "outputs": [],
   "source": [
    "data = pd.read_csv('datasets/Churn.csv')"
   ]
  },
  {
   "cell_type": "code",
   "execution_count": 3,
   "metadata": {},
   "outputs": [
    {
     "data": {
      "text/html": [
       "<div>\n",
       "<style scoped>\n",
       "    .dataframe tbody tr th:only-of-type {\n",
       "        vertical-align: middle;\n",
       "    }\n",
       "\n",
       "    .dataframe tbody tr th {\n",
       "        vertical-align: top;\n",
       "    }\n",
       "\n",
       "    .dataframe thead th {\n",
       "        text-align: right;\n",
       "    }\n",
       "</style>\n",
       "<table border=\"1\" class=\"dataframe\">\n",
       "  <thead>\n",
       "    <tr style=\"text-align: right;\">\n",
       "      <th></th>\n",
       "      <th>RowNumber</th>\n",
       "      <th>CustomerId</th>\n",
       "      <th>Surname</th>\n",
       "      <th>CreditScore</th>\n",
       "      <th>Geography</th>\n",
       "      <th>Gender</th>\n",
       "      <th>Age</th>\n",
       "      <th>Tenure</th>\n",
       "      <th>Balance</th>\n",
       "      <th>NumOfProducts</th>\n",
       "      <th>HasCrCard</th>\n",
       "      <th>IsActiveMember</th>\n",
       "      <th>EstimatedSalary</th>\n",
       "      <th>Exited</th>\n",
       "    </tr>\n",
       "  </thead>\n",
       "  <tbody>\n",
       "    <tr>\n",
       "      <th>0</th>\n",
       "      <td>1</td>\n",
       "      <td>15634602</td>\n",
       "      <td>Hargrave</td>\n",
       "      <td>619</td>\n",
       "      <td>France</td>\n",
       "      <td>Female</td>\n",
       "      <td>42</td>\n",
       "      <td>2.0</td>\n",
       "      <td>0.00</td>\n",
       "      <td>1</td>\n",
       "      <td>1</td>\n",
       "      <td>1</td>\n",
       "      <td>101348.88</td>\n",
       "      <td>1</td>\n",
       "    </tr>\n",
       "    <tr>\n",
       "      <th>1</th>\n",
       "      <td>2</td>\n",
       "      <td>15647311</td>\n",
       "      <td>Hill</td>\n",
       "      <td>608</td>\n",
       "      <td>Spain</td>\n",
       "      <td>Female</td>\n",
       "      <td>41</td>\n",
       "      <td>1.0</td>\n",
       "      <td>83807.86</td>\n",
       "      <td>1</td>\n",
       "      <td>0</td>\n",
       "      <td>1</td>\n",
       "      <td>112542.58</td>\n",
       "      <td>0</td>\n",
       "    </tr>\n",
       "    <tr>\n",
       "      <th>2</th>\n",
       "      <td>3</td>\n",
       "      <td>15619304</td>\n",
       "      <td>Onio</td>\n",
       "      <td>502</td>\n",
       "      <td>France</td>\n",
       "      <td>Female</td>\n",
       "      <td>42</td>\n",
       "      <td>8.0</td>\n",
       "      <td>159660.80</td>\n",
       "      <td>3</td>\n",
       "      <td>1</td>\n",
       "      <td>0</td>\n",
       "      <td>113931.57</td>\n",
       "      <td>1</td>\n",
       "    </tr>\n",
       "    <tr>\n",
       "      <th>3</th>\n",
       "      <td>4</td>\n",
       "      <td>15701354</td>\n",
       "      <td>Boni</td>\n",
       "      <td>699</td>\n",
       "      <td>France</td>\n",
       "      <td>Female</td>\n",
       "      <td>39</td>\n",
       "      <td>1.0</td>\n",
       "      <td>0.00</td>\n",
       "      <td>2</td>\n",
       "      <td>0</td>\n",
       "      <td>0</td>\n",
       "      <td>93826.63</td>\n",
       "      <td>0</td>\n",
       "    </tr>\n",
       "    <tr>\n",
       "      <th>4</th>\n",
       "      <td>5</td>\n",
       "      <td>15737888</td>\n",
       "      <td>Mitchell</td>\n",
       "      <td>850</td>\n",
       "      <td>Spain</td>\n",
       "      <td>Female</td>\n",
       "      <td>43</td>\n",
       "      <td>2.0</td>\n",
       "      <td>125510.82</td>\n",
       "      <td>1</td>\n",
       "      <td>1</td>\n",
       "      <td>1</td>\n",
       "      <td>79084.10</td>\n",
       "      <td>0</td>\n",
       "    </tr>\n",
       "  </tbody>\n",
       "</table>\n",
       "</div>"
      ],
      "text/plain": [
       "   RowNumber  CustomerId   Surname  CreditScore Geography  Gender  Age  \\\n",
       "0          1    15634602  Hargrave          619    France  Female   42   \n",
       "1          2    15647311      Hill          608     Spain  Female   41   \n",
       "2          3    15619304      Onio          502    France  Female   42   \n",
       "3          4    15701354      Boni          699    France  Female   39   \n",
       "4          5    15737888  Mitchell          850     Spain  Female   43   \n",
       "\n",
       "   Tenure    Balance  NumOfProducts  HasCrCard  IsActiveMember  \\\n",
       "0     2.0       0.00              1          1               1   \n",
       "1     1.0   83807.86              1          0               1   \n",
       "2     8.0  159660.80              3          1               0   \n",
       "3     1.0       0.00              2          0               0   \n",
       "4     2.0  125510.82              1          1               1   \n",
       "\n",
       "   EstimatedSalary  Exited  \n",
       "0        101348.88       1  \n",
       "1        112542.58       0  \n",
       "2        113931.57       1  \n",
       "3         93826.63       0  \n",
       "4         79084.10       0  "
      ]
     },
     "execution_count": 3,
     "metadata": {},
     "output_type": "execute_result"
    }
   ],
   "source": [
    "data.head()"
   ]
  },
  {
   "cell_type": "code",
   "execution_count": 4,
   "metadata": {},
   "outputs": [
    {
     "name": "stdout",
     "output_type": "stream",
     "text": [
      "<class 'pandas.core.frame.DataFrame'>\n",
      "RangeIndex: 10000 entries, 0 to 9999\n",
      "Data columns (total 14 columns):\n",
      " #   Column           Non-Null Count  Dtype  \n",
      "---  ------           --------------  -----  \n",
      " 0   RowNumber        10000 non-null  int64  \n",
      " 1   CustomerId       10000 non-null  int64  \n",
      " 2   Surname          10000 non-null  object \n",
      " 3   CreditScore      10000 non-null  int64  \n",
      " 4   Geography        10000 non-null  object \n",
      " 5   Gender           10000 non-null  object \n",
      " 6   Age              10000 non-null  int64  \n",
      " 7   Tenure           9091 non-null   float64\n",
      " 8   Balance          10000 non-null  float64\n",
      " 9   NumOfProducts    10000 non-null  int64  \n",
      " 10  HasCrCard        10000 non-null  int64  \n",
      " 11  IsActiveMember   10000 non-null  int64  \n",
      " 12  EstimatedSalary  10000 non-null  float64\n",
      " 13  Exited           10000 non-null  int64  \n",
      "dtypes: float64(3), int64(8), object(3)\n",
      "memory usage: 1.1+ MB\n"
     ]
    }
   ],
   "source": [
    "data.info()"
   ]
  },
  {
   "cell_type": "markdown",
   "metadata": {},
   "source": [
    "Обнаружил 909 нулевых значений поля Tenure. Заменил их медианным значением."
   ]
  },
  {
   "cell_type": "code",
   "execution_count": 5,
   "metadata": {},
   "outputs": [
    {
     "name": "stdout",
     "output_type": "stream",
     "text": [
      "909\n"
     ]
    }
   ],
   "source": [
    "#print(len(data.loc[data['CustomerId'].isna()]))\n",
    "#print(len(data.loc[data['Surname'].isna()]))\n",
    "#print(len(data.loc[data['CreditScore'].isna()]))\n",
    "#print(len(data.loc[data['Geography'].isna()]))\n",
    "#print(len(data.loc[data['Gender'].isna()]))\n",
    "#print(len(data.loc[data['Age'].isna()]))\n",
    "print(len(data.loc[data['Tenure'].isna()]))\n",
    "#print(len(data.loc[data['Balance'].isna()]))\n",
    "#print(len(data.loc[data['NumOfProducts'].isna()]))\n",
    "#print(len(data.loc[data['HasCrCard'].isna()]))\n",
    "#print(len(data.loc[data['IsActiveMember'].isna()]))\n",
    "#print(len(data.loc[data['EstimatedSalary'].isna()]))\n",
    "#print(len(data.loc[data['Exited'].isna()]))"
   ]
  },
  {
   "cell_type": "markdown",
   "metadata": {},
   "source": [
    "<div class=\"alert alert-success\">\n",
    "<h2> Комментарий ревьюера ✔️ <a class=\"tocSkip\"> </h2>\n",
    "\n",
    "Можно было так, намного короче\n",
    "    \n",
    "    df.isna().mean()"
   ]
  },
  {
   "cell_type": "code",
   "execution_count": 6,
   "metadata": {},
   "outputs": [],
   "source": [
    "#data.loc[data['Tenure'].isna(),'Tenure'] = data['Tenure'].median()\n",
    "data.loc[data['Tenure'].isna(),'Tenure'] = 0"
   ]
  },
  {
   "cell_type": "markdown",
   "metadata": {},
   "source": [
    "<div class=\"alert alert-warning\">\n",
    "<h2> Комментарий ревьюера ⚠️ <a class=\"tocSkip\"> </h2>\n",
    "\n",
    "Заполнить пропуски - решение правильное, но распределение по `Tenure` ровномерное, если сейчас заменить почти 900 пропусков (9% данных) средним или медианой, то мы значительно исказим распределение. Я бы лучше предпочел заполнить пропуски случайными значениями в интервале от минимального до максимального значения по данному столбцу. Так мы не нарушим распределение. Как еще можно было их обработать:\n",
    "    \n",
    "- Можно заполнить нулями, так мы предполагаем, что это новые клиенты.\n",
    "\n",
    "- Так как значений в этом признаке ограниченное количество, можно сделать его категориальным признаком. Пропуски можно считать как за отдельную категорию (заполнить значением -1). Затем заменить тип данных `Tenure` на `object` и применить технику [OHE](https://scikit-learn.org/stable/modules/generated/sklearn.preprocessing.OneHotEncoder.html)."
   ]
  },
  {
   "cell_type": "markdown",
   "metadata": {},
   "source": [
    "<div class=\"alert alert-info\"> <b>Комментарий студента:</b> Заполнил нулями</div>"
   ]
  },
  {
   "cell_type": "markdown",
   "metadata": {},
   "source": [
    "Дибликатов не обнаружено."
   ]
  },
  {
   "cell_type": "code",
   "execution_count": 7,
   "metadata": {},
   "outputs": [
    {
     "name": "stdout",
     "output_type": "stream",
     "text": [
      "0\n"
     ]
    }
   ],
   "source": [
    "print(data.duplicated().sum())"
   ]
  },
  {
   "cell_type": "markdown",
   "metadata": {},
   "source": [
    "Удалил поля RowNumber, CustomerId и Surname, т.к. они не несут никакой полезной информации для нашей модели."
   ]
  },
  {
   "cell_type": "code",
   "execution_count": 8,
   "metadata": {},
   "outputs": [],
   "source": [
    "data.drop(\"RowNumber\", axis=1, inplace=True)\n",
    "data.drop(\"CustomerId\", axis=1, inplace=True)\n",
    "data.drop(\"Surname\", axis=1, inplace=True)"
   ]
  },
  {
   "cell_type": "markdown",
   "metadata": {},
   "source": [
    "<div class=\"alert alert-danger\">\n",
    "<h2> Комментарий ревьюера ❌ <a class=\"tocSkip\"> </h2>\n",
    "\n",
    "Согласен, что  неинформативные столбцы нам не нужны, а что насчет Surname? Нужен ли нам этот столбец?"
   ]
  },
  {
   "cell_type": "markdown",
   "metadata": {},
   "source": [
    "<div class=\"alert alert-info\"> <b>Комментарий студента:</b>Ох, сорри, проглядел! Surname тоже удалил.</div>"
   ]
  },
  {
   "cell_type": "markdown",
   "metadata": {},
   "source": [
    "Предотвращаю попадание в дамми-ловушку при помощи метода get_dummies()."
   ]
  },
  {
   "cell_type": "code",
   "execution_count": 9,
   "metadata": {},
   "outputs": [],
   "source": [
    "data_ohe = pd.get_dummies(data, drop_first=True)"
   ]
  },
  {
   "cell_type": "markdown",
   "metadata": {},
   "source": [
    "<div class=\"alert alert-success\">\n",
    "<h2> Комментарий ревьюера ✔️ <a class=\"tocSkip\"> </h2>\n",
    "\n",
    "В данном случае это наиболее подходящий способ закодировать категориальные колонки 👍 И отдельный плюс за `drop_first`"
   ]
  },
  {
   "cell_type": "code",
   "execution_count": 10,
   "metadata": {},
   "outputs": [],
   "source": [
    "target = data_ohe['Exited']\n",
    "features = data_ohe.drop(['Exited'] , axis=1)"
   ]
  },
  {
   "cell_type": "markdown",
   "metadata": {},
   "source": [
    "Разобью исходные данные на обучающую, валидационную и тестовую выборки в соотношении 3:1:1."
   ]
  },
  {
   "cell_type": "code",
   "execution_count": 11,
   "metadata": {},
   "outputs": [],
   "source": [
    "features_main, features_test, target_main, target_test = train_test_split(features, target, test_size=0.20, random_state=12345, stratify=target)"
   ]
  },
  {
   "cell_type": "code",
   "execution_count": 12,
   "metadata": {},
   "outputs": [
    {
     "name": "stdout",
     "output_type": "stream",
     "text": [
      "(2000, 11)\n",
      "(2000,)\n"
     ]
    }
   ],
   "source": [
    "print(features_test.shape)\n",
    "print(target_test.shape)"
   ]
  },
  {
   "cell_type": "code",
   "execution_count": 13,
   "metadata": {},
   "outputs": [],
   "source": [
    "features_train, features_valid, target_train, target_valid = train_test_split(features_main, target_main, test_size=0.25, random_state=12345, stratify=target_main)"
   ]
  },
  {
   "cell_type": "markdown",
   "metadata": {},
   "source": [
    "<div class=\"alert alert-success\">\n",
    "<h2> Комментарий ревьюера ✔️ <a class=\"tocSkip\"> </h2>\n",
    "\n",
    "Круто, что ты фиксируешь `random_state`. Кстати, его можно задать один раз в начале проекта, например, используя любимый нами [numpy](https://pyprog.pro/random_sampling_functions/seed.html?)"
   ]
  },
  {
   "cell_type": "code",
   "execution_count": 14,
   "metadata": {},
   "outputs": [
    {
     "name": "stdout",
     "output_type": "stream",
     "text": [
      "(2000, 11)\n",
      "(2000,)\n"
     ]
    }
   ],
   "source": [
    "print(features_valid.shape)\n",
    "print(target_valid.shape)"
   ]
  },
  {
   "cell_type": "code",
   "execution_count": 15,
   "metadata": {},
   "outputs": [
    {
     "name": "stdout",
     "output_type": "stream",
     "text": [
      "(6000, 11)\n",
      "(6000,)\n"
     ]
    }
   ],
   "source": [
    "print(features_train.shape)\n",
    "print(target_train.shape)"
   ]
  },
  {
   "cell_type": "markdown",
   "metadata": {},
   "source": [
    "Выделяю числовые признаки и масштабирую их с помощью функции Scaler."
   ]
  },
  {
   "cell_type": "code",
   "execution_count": 16,
   "metadata": {},
   "outputs": [],
   "source": [
    "numeric = ['CreditScore', 'Age', 'Tenure', 'Balance', 'NumOfProducts', 'EstimatedSalary']\n",
    "scaler = StandardScaler()\n",
    "scaler.fit(features_train[numeric])\n",
    "features_train[numeric] = scaler.transform(features_train[numeric])\n",
    "features_valid[numeric] = scaler.transform(features_valid[numeric])\n",
    "features_test[numeric] = scaler.transform(features_test[numeric])"
   ]
  },
  {
   "cell_type": "markdown",
   "metadata": {},
   "source": [
    "<div class=\"alert alert-success\">\n",
    "<h2> Комментарий ревьюера ✔️ <a class=\"tocSkip\"> </h2>\n",
    "\n",
    "Стандартизация выполнена корректно, молодец! Кстати, хорошо бы проверить метрики без нее, возможно, результат будет лучше, а возможно, и нет. Дело в том, что алгоритмы основанные на лесах, на самом деле, не нуждаются в нормализации или стандартизации, в отличии от линейных моделей"
   ]
  },
  {
   "cell_type": "markdown",
   "metadata": {},
   "source": [
    "Проверю сбалансированность классов в таргете."
   ]
  },
  {
   "cell_type": "code",
   "execution_count": 17,
   "metadata": {},
   "outputs": [
    {
     "data": {
      "text/plain": [
       "7963"
      ]
     },
     "execution_count": 17,
     "metadata": {},
     "output_type": "execute_result"
    }
   ],
   "source": [
    "(target[target == 0]).size"
   ]
  },
  {
   "cell_type": "code",
   "execution_count": 18,
   "metadata": {},
   "outputs": [
    {
     "data": {
      "text/plain": [
       "2037"
      ]
     },
     "execution_count": 18,
     "metadata": {},
     "output_type": "execute_result"
    }
   ],
   "source": [
    "(target[target == 1]).size"
   ]
  },
  {
   "cell_type": "markdown",
   "metadata": {},
   "source": [
    "<div class=\"alert alert-warning\">\n",
    "<h2> Комментарий ревьюера ⚠️ <a class=\"tocSkip\"> </h2>\n",
    "\n",
    "Здесь также можно было сократить решение"
   ]
  },
  {
   "cell_type": "code",
   "execution_count": 19,
   "metadata": {},
   "outputs": [
    {
     "data": {
      "text/plain": [
       "0    0.7963\n",
       "1    0.2037\n",
       "Name: Exited, dtype: float64"
      ]
     },
     "execution_count": 19,
     "metadata": {},
     "output_type": "execute_result"
    }
   ],
   "source": [
    "target.value_counts(normalize=True)"
   ]
  },
  {
   "cell_type": "markdown",
   "metadata": {},
   "source": [
    "## Вывод"
   ]
  },
  {
   "cell_type": "markdown",
   "metadata": {},
   "source": [
    "Проверил данные на пропуски и дубликаты. Удалил поля, не имеющие смысла для обучения. Провёл профилактику попадания в дамми-ловушку. Разобил исходные данные на обучающую, валидационную и тестовую выборки. Разбил данные на обучающие и целевые признаки. Выделил и промасштабировал числовые признаки. Проверил сбалансированность классов в таргете.\n",
    "Классы в таргете не сбалансированы. Нулей 79.63%, единиц 20.37%. Т.е. примерно на 8 нулей (клиент остался) приходится 2 единицы (клиент ушёл)."
   ]
  },
  {
   "cell_type": "markdown",
   "metadata": {},
   "source": [
    "## Исследование задачи"
   ]
  },
  {
   "cell_type": "markdown",
   "metadata": {},
   "source": [
    "Исследую модели на несбалансированных данных."
   ]
  },
  {
   "cell_type": "markdown",
   "metadata": {},
   "source": [
    "Вначале исследую модель решающего дерева."
   ]
  },
  {
   "cell_type": "code",
   "execution_count": 20,
   "metadata": {},
   "outputs": [
    {
     "name": "stdout",
     "output_type": "stream",
     "text": [
      "max_depth = 1\n",
      "  F1 = 0.0\n",
      "  AUC-ROC = 0.7020417952621343\n",
      "max_depth = 2\n",
      "  F1 = 0.514792899408284\n",
      "  AUC-ROC = 0.7397559346711888\n",
      "max_depth = 3\n",
      "  F1 = 0.375\n",
      "  AUC-ROC = 0.8041878550353126\n",
      "max_depth = 4\n",
      "  F1 = 0.5168539325842697\n",
      "  AUC-ROC = 0.8272193611176661\n",
      "max_depth = 5\n",
      "  F1 = 0.46045694200351495\n",
      "  AUC-ROC = 0.8326724258927649\n",
      "max_depth = 6\n",
      "  F1 = 0.5296950240770465\n",
      "  AUC-ROC = 0.8250253334999098\n",
      "max_depth = 7\n",
      "  F1 = 0.5451713395638629\n",
      "  AUC-ROC = 0.8264682247733095\n",
      "max_depth = 8\n",
      "  F1 = 0.5817655571635311\n",
      "  AUC-ROC = 0.8073851972157057\n",
      "max_depth = 9\n",
      "  F1 = 0.5706293706293707\n",
      "  AUC-ROC = 0.7928868776326403\n",
      "max_depth = 10\n",
      "  F1 = 0.5323741007194245\n",
      "  AUC-ROC = 0.7717208734157888\n",
      "max_depth = 11\n",
      "  F1 = 0.5444743935309972\n",
      "  AUC-ROC = 0.7533882110153296\n",
      "max_depth = 12\n",
      "  F1 = 0.5275590551181102\n",
      "  AUC-ROC = 0.7384557130319842\n",
      "max_depth = 13\n",
      "  F1 = 0.5168831168831168\n",
      "  AUC-ROC = 0.7262655567740313\n",
      "max_depth = 14\n",
      "  F1 = 0.49874055415617136\n",
      "  AUC-ROC = 0.6970352478827055\n",
      "max_depth = 15\n",
      "  F1 = 0.5155666251556662\n",
      "  AUC-ROC = 0.7006220396050905\n"
     ]
    }
   ],
   "source": [
    "for depth in range(1, 16, 1):\n",
    "    model = DecisionTreeClassifier(random_state=12345, max_depth=depth)\n",
    "    model.fit(features_train, target_train)\n",
    "    predictions_valid = model.predict(features_valid)\n",
    "    probabilities_valid = model.predict_proba(features_valid)\n",
    "    probabilities_one_valid = probabilities_valid[:, 1]\n",
    "    f1 = f1_score(target_valid, predictions_valid)\n",
    "    auc_roc = roc_auc_score(target_valid, probabilities_one_valid)\n",
    "    print(\"max_depth =\", depth)\n",
    "    print('  F1 =', f1)\n",
    "    print('  AUC-ROC =', auc_roc)"
   ]
  },
  {
   "cell_type": "code",
   "execution_count": 21,
   "metadata": {},
   "outputs": [],
   "source": [
    "model = DecisionTreeClassifier(random_state=12345, max_depth=9)\n",
    "model.fit(features_train, target_train)\n",
    "probabilities_valid = model.predict_proba(features_valid)\n",
    "probabilities_one_valid = probabilities_valid[:, 1]"
   ]
  },
  {
   "cell_type": "code",
   "execution_count": 22,
   "metadata": {},
   "outputs": [
    {
     "data": {
      "image/png": "[encoded data removed]",
      "text/plain": [
       "<Figure size 640x480 with 1 Axes>"
      ]
     },
     "metadata": {},
     "output_type": "display_data"
    }
   ],
   "source": [
    "fpr, tpr, thresholds = roc_curve(target_valid, probabilities_one_valid)\n",
    "\n",
    "plt.figure()\n",
    "\n",
    "plt.plot(fpr, tpr)\n",
    "plt.xlim([0.0, 1.0])\n",
    "plt.ylim([0.0, 1.0])\n",
    "plt.xlabel('False Positive Rate')\n",
    "plt.ylabel('True Positive Rate')\n",
    "plt.title('ROC-кривая')\n",
    "plt.show() "
   ]
  },
  {
   "cell_type": "markdown",
   "metadata": {},
   "source": [
    "<div class=\"alert alert-success\">\n",
    "<h2> Комментарий ревьюера ✔️ <a class=\"tocSkip\"> </h2>\n",
    "\n",
    "Мне для счастья не хватает сетки"
   ]
  },
  {
   "cell_type": "markdown",
   "metadata": {},
   "source": [
    "Модель решающего дерева показала наилучший результат  F1 = 0.5923836389280677 AUC-ROC = 0.8017856068703527 при max_depth=9"
   ]
  },
  {
   "cell_type": "markdown",
   "metadata": {},
   "source": [
    "Исследую модель случайного леса."
   ]
  },
  {
   "cell_type": "code",
   "execution_count": 23,
   "metadata": {},
   "outputs": [
    {
     "name": "stdout",
     "output_type": "stream",
     "text": [
      "est = 1\n",
      "  F1 = 0.47277227722772275\n",
      "  AUC-ROC = 0.6687303636456179\n",
      "est = 2\n",
      "  F1 = 0.3698630136986301\n",
      "  AUC-ROC = 0.7195600839668637\n",
      "est = 3\n",
      "  F1 = 0.5159574468085105\n",
      "  AUC-ROC = 0.759558479897463\n",
      "est = 4\n",
      "  F1 = 0.47435897435897434\n",
      "  AUC-ROC = 0.7762122677376915\n",
      "est = 5\n",
      "  F1 = 0.5267605633802818\n",
      "  AUC-ROC = 0.7974461364291873\n",
      "est = 6\n",
      "  F1 = 0.5140186915887851\n",
      "  AUC-ROC = 0.8101553016807255\n",
      "est = 7\n",
      "  F1 = 0.5542857142857144\n",
      "  AUC-ROC = 0.8169533169533169\n",
      "est = 8\n",
      "  F1 = 0.5210608424336973\n",
      "  AUC-ROC = 0.8219143642872456\n",
      "est = 9\n",
      "  F1 = 0.5411764705882354\n",
      "  AUC-ROC = 0.8220300423690254\n",
      "est = 10\n",
      "  F1 = 0.5217391304347825\n",
      "  AUC-ROC = 0.8280830907949552\n",
      "est = 11\n",
      "  F1 = 0.5592972181551976\n",
      "  AUC-ROC = 0.8257587325383935\n",
      "est = 12\n",
      "  F1 = 0.5395348837209302\n",
      "  AUC-ROC = 0.8259808344554107\n",
      "est = 13\n",
      "  F1 = 0.5479041916167664\n",
      "  AUC-ROC = 0.8295529736207703\n",
      "est = 14\n",
      "  F1 = 0.5426356589147286\n",
      "  AUC-ROC = 0.8300156859478893\n",
      "est = 15\n",
      "  F1 = 0.5543964232488824\n",
      "  AUC-ROC = 0.8340196899518932\n",
      "est = 16\n",
      "  F1 = 0.5364341085271317\n",
      "  AUC-ROC = 0.8358073019089967\n",
      "est = 17\n",
      "  F1 = 0.5542168674698795\n",
      "  AUC-ROC = 0.8364874890298619\n",
      "est = 18\n",
      "  F1 = 0.5443234836702956\n",
      "  AUC-ROC = 0.8380422024489821\n",
      "est = 19\n",
      "  F1 = 0.5633383010432191\n",
      "  AUC-ROC = 0.838625991168364\n",
      "est = 20\n",
      "  F1 = 0.5510835913312693\n",
      "  AUC-ROC = 0.838826499843449\n"
     ]
    }
   ],
   "source": [
    "for est in range(1, 21):\n",
    "    model = RandomForestClassifier(random_state=12345, n_estimators=est)\n",
    "    model.fit(features_train, target_train)\n",
    "    predictions_valid = model.predict(features_valid)\n",
    "    probabilities_valid = model.predict_proba(features_valid)\n",
    "    probabilities_one_valid = probabilities_valid[:, 1]\n",
    "    f1 = f1_score(target_valid, predictions_valid)\n",
    "    auc_roc = roc_auc_score(target_valid, probabilities_one_valid)\n",
    "    print(\"est =\", est)\n",
    "    print('  F1 =', f1)\n",
    "    print('  AUC-ROC =', auc_roc)"
   ]
  },
  {
   "cell_type": "markdown",
   "metadata": {},
   "source": [
    "<div class=\"alert alert-success\">\n",
    "<h2> Комментарий ревьюера ✔️ <a class=\"tocSkip\"> </h2>\n",
    "\n",
    "Чтобы добиться лучшего результата, можно перебирать несколько параметров, для случайного леса, например, можно еще поварьировать кол-во деревьев в ансамбле `max_depth`, или `min_samples_leaf`"
   ]
  },
  {
   "cell_type": "code",
   "execution_count": 24,
   "metadata": {},
   "outputs": [],
   "source": [
    "model = RandomForestClassifier(random_state=12345, n_estimators=15)\n",
    "model.fit(features_train, target_train) \n",
    "    \n",
    "probabilities_valid = model.predict_proba(features_valid)\n",
    "probabilities_one_valid = probabilities_valid[:, 1]"
   ]
  },
  {
   "cell_type": "code",
   "execution_count": 25,
   "metadata": {},
   "outputs": [
    {
     "data": {
      "image/png": "[encoded data removed]",
      "text/plain": [
       "<Figure size 640x480 with 1 Axes>"
      ]
     },
     "metadata": {},
     "output_type": "display_data"
    }
   ],
   "source": [
    "fpr, tpr, thresholds = roc_curve(target_valid, probabilities_one_valid)\n",
    "\n",
    "plt.figure()\n",
    "\n",
    "plt.plot(fpr, tpr)\n",
    "plt.xlim([0.0, 1.0])\n",
    "plt.ylim([0.0, 1.0])\n",
    "plt.xlabel('False Positive Rate')\n",
    "plt.ylabel('True Positive Rate')\n",
    "plt.title('ROC-кривая')\n",
    "plt.show() "
   ]
  },
  {
   "cell_type": "markdown",
   "metadata": {},
   "source": [
    "Модель случайного леса показала наилучший результат  F1 = 0.5215946843853821 AUC-ROC = 0.8159276379615362 при n_estimators=15"
   ]
  },
  {
   "cell_type": "markdown",
   "metadata": {},
   "source": [
    "Исследую модель логистической регрессии."
   ]
  },
  {
   "cell_type": "code",
   "execution_count": 26,
   "metadata": {},
   "outputs": [
    {
     "name": "stdout",
     "output_type": "stream",
     "text": [
      "itr = 500\n",
      "  F1 = 0.3214953271028037\n",
      "  AUC-ROC = 0.7874237874237874\n",
      "itr = 600\n",
      "  F1 = 0.3214953271028037\n",
      "  AUC-ROC = 0.7874237874237874\n",
      "itr = 700\n",
      "  F1 = 0.3214953271028037\n",
      "  AUC-ROC = 0.7874237874237874\n",
      "itr = 800\n",
      "  F1 = 0.3214953271028037\n",
      "  AUC-ROC = 0.7874237874237874\n",
      "itr = 900\n",
      "  F1 = 0.3214953271028037\n",
      "  AUC-ROC = 0.7874237874237874\n"
     ]
    }
   ],
   "source": [
    "for itr in range(500, 1000, 100):\n",
    "    model = LogisticRegression(random_state=12345, solver='liblinear', max_iter=itr)\n",
    "    model.fit(features_train, target_train)\n",
    "    predictions_valid = model.predict(features_valid)\n",
    "    probabilities_valid = model.predict_proba(features_valid)\n",
    "    probabilities_one_valid = probabilities_valid[:, 1]\n",
    "    f1 = f1_score(target_valid, predictions_valid)\n",
    "    auc_roc = roc_auc_score(target_valid, probabilities_one_valid)\n",
    "    print(\"itr =\", itr)\n",
    "    print('  F1 =', f1)\n",
    "    print('  AUC-ROC =', auc_roc)"
   ]
  },
  {
   "cell_type": "code",
   "execution_count": 27,
   "metadata": {},
   "outputs": [],
   "source": [
    "model = LogisticRegression(random_state=12345, solver='liblinear', max_iter=500)\n",
    "model.fit(features_train, target_train)\n",
    "\n",
    "probabilities_valid = model.predict_proba(features_valid)\n",
    "probabilities_one_valid = probabilities_valid[:, 1]"
   ]
  },
  {
   "cell_type": "markdown",
   "metadata": {},
   "source": [
    "<div class=\"alert alert-success\"> \n",
    "<h2> Комментарий ревьюера ✔️ <a class=\"tocSkip\"> </h2>\n",
    "\n",
    "Круто, что ты и здесь решила подобрать гиперпараметры. Хотя по мне, `solver` или `penalty` более важные параметры, я бы их перебирал."
   ]
  },
  {
   "cell_type": "code",
   "execution_count": 28,
   "metadata": {},
   "outputs": [
    {
     "data": {
      "image/png": "[encoded data removed]",
      "text/plain": [
       "<Figure size 640x480 with 1 Axes>"
      ]
     },
     "metadata": {},
     "output_type": "display_data"
    }
   ],
   "source": [
    "fpr, tpr, thresholds = roc_curve(target_valid, probabilities_one_valid)\n",
    "\n",
    "plt.figure()\n",
    "\n",
    "plt.plot(fpr, tpr)\n",
    "plt.xlim([0.0, 1.0])\n",
    "plt.ylim([0.0, 1.0])\n",
    "plt.xlabel('False Positive Rate')\n",
    "plt.ylabel('True Positive Rate')\n",
    "plt.title('ROC-кривая')\n",
    "plt.show() \n"
   ]
  },
  {
   "cell_type": "markdown",
   "metadata": {},
   "source": [
    "Модель логистической регрессии показала наилучший результат F1 = 0.34050179211469533 AUC-ROC = 0.7699301767098378 при max_iter=500"
   ]
  },
  {
   "cell_type": "markdown",
   "metadata": {},
   "source": [
    "## Вывод"
   ]
  },
  {
   "cell_type": "markdown",
   "metadata": {},
   "source": [
    "На несбалансированных данных наилучший результат достигнут моделью решающего дерева  F1 = 0.5923836389280677 AUC-ROC = 0.8017856068703527 при max_depth=9"
   ]
  },
  {
   "cell_type": "markdown",
   "metadata": {},
   "source": [
    "## Борьба с дисбалансом"
   ]
  },
  {
   "cell_type": "markdown",
   "metadata": {},
   "source": [
    "Исходные данные несбалансированы примерно 8:2. Т.е. на каждые 8 случаев, когда клиент остался, приходится 2 случая, когда клиент ушёл."
   ]
  },
  {
   "cell_type": "code",
   "execution_count": 29,
   "metadata": {},
   "outputs": [
    {
     "name": "stdout",
     "output_type": "stream",
     "text": [
      "(4777, 11)\n",
      "(1223, 11)\n",
      "(4777,)\n",
      "(1223,)\n"
     ]
    }
   ],
   "source": [
    "features_zeros = features_train[target_train == 0] \n",
    "features_ones = features_train[target_train == 1] \n",
    "target_zeros = target_train[target_train == 0] \n",
    "target_ones = target_train[target_train == 1] \n",
    "\n",
    "print(features_zeros.shape)\n",
    "print(features_ones.shape)\n",
    "print(target_zeros.shape)\n",
    "print(target_ones.shape)"
   ]
  },
  {
   "cell_type": "markdown",
   "metadata": {},
   "source": [
    "Применю параметр class_weight='balanced' к модели решающего дерева"
   ]
  },
  {
   "cell_type": "code",
   "execution_count": 30,
   "metadata": {},
   "outputs": [
    {
     "name": "stdout",
     "output_type": "stream",
     "text": [
      "max_depth = 1\n",
      "  F1 = 0.49916527545909845\n",
      "  AUC-ROC = 0.7128962552691366\n",
      "max_depth = 2\n",
      "  F1 = 0.5074135090609556\n",
      "  AUC-ROC = 0.7538000249864657\n",
      "max_depth = 3\n",
      "  F1 = 0.5336538461538461\n",
      "  AUC-ROC = 0.8064212132008742\n",
      "max_depth = 4\n",
      "  F1 = 0.5422594142259414\n",
      "  AUC-ROC = 0.8254055287953593\n",
      "max_depth = 5\n",
      "  F1 = 0.5593803786574871\n",
      "  AUC-ROC = 0.834954368852674\n",
      "max_depth = 6\n",
      "  F1 = 0.5734639358860195\n",
      "  AUC-ROC = 0.8329006973074768\n",
      "max_depth = 7\n",
      "  F1 = 0.5655296229802513\n",
      "  AUC-ROC = 0.8133248811214913\n",
      "max_depth = 8\n",
      "  F1 = 0.559040590405904\n",
      "  AUC-ROC = 0.7947431252515998\n",
      "max_depth = 9\n",
      "  F1 = 0.5314553990610329\n",
      "  AUC-ROC = 0.7778749473664728\n",
      "max_depth = 10\n",
      "  F1 = 0.525911708253359\n",
      "  AUC-ROC = 0.733955835650751\n",
      "max_depth = 11\n",
      "  F1 = 0.5161964472309301\n",
      "  AUC-ROC = 0.72337900304002\n",
      "max_depth = 12\n",
      "  F1 = 0.5176470588235293\n",
      "  AUC-ROC = 0.7127489585116704\n",
      "max_depth = 13\n",
      "  F1 = 0.5144766146993318\n",
      "  AUC-ROC = 0.7069103001306392\n",
      "max_depth = 14\n",
      "  F1 = 0.4910313901345291\n",
      "  AUC-ROC = 0.7007130396960906\n",
      "max_depth = 15\n",
      "  F1 = 0.4829931972789116\n",
      "  AUC-ROC = 0.687686145313264\n"
     ]
    }
   ],
   "source": [
    "for depth in range(1, 16, 1):\n",
    "    model = DecisionTreeClassifier(random_state=12345, max_depth=depth, class_weight='balanced')\n",
    "    model.fit(features_train, target_train)\n",
    "    predictions_valid = model.predict(features_valid)\n",
    "    probabilities_valid = model.predict_proba(features_valid)\n",
    "    probabilities_one_valid = probabilities_valid[:, 1]\n",
    "    f1 = f1_score(target_valid, predictions_valid)\n",
    "    auc_roc = roc_auc_score(target_valid, probabilities_one_valid)\n",
    "    print(\"max_depth =\", depth)\n",
    "    print('  F1 =', f1)\n",
    "    print('  AUC-ROC =', auc_roc)"
   ]
  },
  {
   "cell_type": "code",
   "execution_count": 31,
   "metadata": {},
   "outputs": [],
   "source": [
    "model = DecisionTreeClassifier(random_state=12345, max_depth=6, class_weight='balanced')\n",
    "model.fit(features_train, target_train)\n",
    "probabilities_valid = model.predict_proba(features_valid)\n",
    "probabilities_one_valid = probabilities_valid[:, 1]"
   ]
  },
  {
   "cell_type": "code",
   "execution_count": 32,
   "metadata": {},
   "outputs": [
    {
     "data": {
      "image/png": "[encoded data removed]",
      "text/plain": [
       "<Figure size 640x480 with 1 Axes>"
      ]
     },
     "metadata": {},
     "output_type": "display_data"
    }
   ],
   "source": [
    "fpr, tpr, thresholds = roc_curve(target_valid, probabilities_one_valid)\n",
    "\n",
    "plt.figure()\n",
    "\n",
    "plt.plot(fpr, tpr)\n",
    "plt.xlim([0.0, 1.0])\n",
    "plt.ylim([0.0, 1.0])\n",
    "plt.xlabel('False Positive Rate')\n",
    "plt.ylabel('True Positive Rate')\n",
    "plt.title('ROC-кривая')\n",
    "plt.show() "
   ]
  },
  {
   "cell_type": "markdown",
   "metadata": {},
   "source": [
    "Применю параметр class_weight='balanced' к модели случайного леса"
   ]
  },
  {
   "cell_type": "code",
   "execution_count": 33,
   "metadata": {},
   "outputs": [
    {
     "name": "stdout",
     "output_type": "stream",
     "text": [
      "est = 1\n",
      "  F1 = 0.4619105199516324\n",
      "  AUC-ROC = 0.6627667729362645\n",
      "est = 2\n",
      "  F1 = 0.4271186440677966\n",
      "  AUC-ROC = 0.7213145348738569\n",
      "est = 3\n",
      "  F1 = 0.5219780219780219\n",
      "  AUC-ROC = 0.753093617500397\n",
      "est = 4\n",
      "  F1 = 0.49201277955271566\n",
      "  AUC-ROC = 0.7700296598601684\n",
      "est = 5\n",
      "  F1 = 0.5360230547550433\n",
      "  AUC-ROC = 0.78000728000728\n",
      "est = 6\n",
      "  F1 = 0.5229793977812995\n",
      "  AUC-ROC = 0.7918002748511224\n",
      "est = 7\n",
      "  F1 = 0.5459854014598541\n",
      "  AUC-ROC = 0.7957055668920076\n",
      "est = 8\n",
      "  F1 = 0.49597423510467\n",
      "  AUC-ROC = 0.7966973136464663\n",
      "est = 9\n",
      "  F1 = 0.5171898355754857\n",
      "  AUC-ROC = 0.8016028355011406\n",
      "est = 10\n",
      "  F1 = 0.5182829888712241\n",
      "  AUC-ROC = 0.8059330516957636\n",
      "est = 11\n",
      "  F1 = 0.5258358662613982\n",
      "  AUC-ROC = 0.8091388769354871\n",
      "est = 12\n",
      "  F1 = 0.5172413793103449\n",
      "  AUC-ROC = 0.8138839918500935\n",
      "est = 13\n",
      "  F1 = 0.544360902255639\n",
      "  AUC-ROC = 0.8173512495546394\n",
      "est = 14\n",
      "  F1 = 0.5133858267716535\n",
      "  AUC-ROC = 0.8178694873610128\n",
      "est = 15\n",
      "  F1 = 0.5335365853658536\n",
      "  AUC-ROC = 0.8214215756588638\n",
      "est = 16\n",
      "  F1 = 0.5228346456692914\n",
      "  AUC-ROC = 0.8246412822684009\n",
      "est = 17\n",
      "  F1 = 0.5412844036697247\n",
      "  AUC-ROC = 0.8279604720282687\n",
      "est = 18\n",
      "  F1 = 0.5299684542586751\n",
      "  AUC-ROC = 0.8284301250402946\n",
      "est = 19\n",
      "  F1 = 0.5384615384615384\n",
      "  AUC-ROC = 0.8303334150791778\n",
      "est = 20\n",
      "  F1 = 0.5425867507886435\n",
      "  AUC-ROC = 0.830584050923034\n"
     ]
    }
   ],
   "source": [
    "for est in range(1, 21):\n",
    "    model = RandomForestClassifier(random_state=12345, n_estimators=est, class_weight='balanced')\n",
    "    model.fit(features_train, target_train)\n",
    "    predictions_valid = model.predict(features_valid)\n",
    "    probabilities_valid = model.predict_proba(features_valid)\n",
    "    probabilities_one_valid = probabilities_valid[:, 1]\n",
    "    f1 = f1_score(target_valid, predictions_valid)\n",
    "    auc_roc = roc_auc_score(target_valid, probabilities_one_valid)\n",
    "    print(\"est =\", est)\n",
    "    print('  F1 =', f1)\n",
    "    print('  AUC-ROC =', auc_roc)"
   ]
  },
  {
   "cell_type": "code",
   "execution_count": 34,
   "metadata": {},
   "outputs": [],
   "source": [
    "model = RandomForestClassifier(random_state=12345, n_estimators=15, class_weight='balanced')\n",
    "model.fit(features_train, target_train) \n",
    "    \n",
    "probabilities_valid = model.predict_proba(features_valid)\n",
    "probabilities_one_valid = probabilities_valid[:, 1]"
   ]
  },
  {
   "cell_type": "code",
   "execution_count": 35,
   "metadata": {},
   "outputs": [
    {
     "data": {
      "image/png": "[encoded data removed]",
      "text/plain": [
       "<Figure size 640x480 with 1 Axes>"
      ]
     },
     "metadata": {},
     "output_type": "display_data"
    }
   ],
   "source": [
    "fpr, tpr, thresholds = roc_curve(target_valid, probabilities_one_valid)\n",
    "\n",
    "plt.figure()\n",
    "\n",
    "plt.plot(fpr, tpr)\n",
    "plt.xlim([0.0, 1.0])\n",
    "plt.ylim([0.0, 1.0])\n",
    "plt.xlabel('False Positive Rate')\n",
    "plt.ylabel('True Positive Rate')\n",
    "plt.title('ROC-кривая')\n",
    "plt.show() "
   ]
  },
  {
   "cell_type": "markdown",
   "metadata": {},
   "source": [
    "Применю параметр class_weight='balanced' к модели логистической регрессии"
   ]
  },
  {
   "cell_type": "code",
   "execution_count": 36,
   "metadata": {},
   "outputs": [
    {
     "name": "stdout",
     "output_type": "stream",
     "text": [
      "itr = 500\n",
      "  F1 = 0.5099739809193409\n",
      "  AUC-ROC = 0.7917547748056223\n",
      "itr = 600\n",
      "  F1 = 0.5099739809193409\n",
      "  AUC-ROC = 0.7917547748056223\n",
      "itr = 700\n",
      "  F1 = 0.5099739809193409\n",
      "  AUC-ROC = 0.7917547748056223\n",
      "itr = 800\n",
      "  F1 = 0.5099739809193409\n",
      "  AUC-ROC = 0.7917547748056223\n",
      "itr = 900\n",
      "  F1 = 0.5099739809193409\n",
      "  AUC-ROC = 0.7917547748056223\n"
     ]
    }
   ],
   "source": [
    "for itr in range(500, 1000, 100):\n",
    "    model = LogisticRegression(random_state=12345, solver='liblinear', max_iter=itr, class_weight='balanced')\n",
    "    model.fit(features_train, target_train)\n",
    "    predictions_valid = model.predict(features_valid)\n",
    "    probabilities_valid = model.predict_proba(features_valid)\n",
    "    probabilities_one_valid = probabilities_valid[:, 1]\n",
    "    f1 = f1_score(target_valid, predictions_valid)\n",
    "    auc_roc = roc_auc_score(target_valid, probabilities_one_valid)\n",
    "    print(\"itr =\", itr)\n",
    "    print('  F1 =', f1)\n",
    "    print('  AUC-ROC =', auc_roc)"
   ]
  },
  {
   "cell_type": "code",
   "execution_count": 37,
   "metadata": {},
   "outputs": [],
   "source": [
    "model = LogisticRegression(random_state=12345, solver='liblinear', max_iter=500, class_weight='balanced')\n",
    "model.fit(features_train, target_train)\n",
    "\n",
    "probabilities_valid = model.predict_proba(features_valid)\n",
    "probabilities_one_valid = probabilities_valid[:, 1]"
   ]
  },
  {
   "cell_type": "code",
   "execution_count": 38,
   "metadata": {},
   "outputs": [
    {
     "data": {
      "image/png": "[encoded data removed]",
      "text/plain": [
       "<Figure size 640x480 with 1 Axes>"
      ]
     },
     "metadata": {},
     "output_type": "display_data"
    }
   ],
   "source": [
    "fpr, tpr, thresholds = roc_curve(target_valid, probabilities_one_valid)\n",
    "\n",
    "plt.figure()\n",
    "\n",
    "plt.plot(fpr, tpr)\n",
    "plt.xlim([0.0, 1.0])\n",
    "plt.ylim([0.0, 1.0])\n",
    "plt.xlabel('False Positive Rate')\n",
    "plt.ylabel('True Positive Rate')\n",
    "plt.title('ROC-кривая')\n",
    "plt.show() "
   ]
  },
  {
   "cell_type": "markdown",
   "metadata": {},
   "source": [
    "Увеличил количество единиц при помощи техники upsampling."
   ]
  },
  {
   "cell_type": "code",
   "execution_count": 39,
   "metadata": {},
   "outputs": [
    {
     "name": "stdout",
     "output_type": "stream",
     "text": [
      "(4777, 11)\n",
      "(4892, 11)\n",
      "(4777,)\n",
      "(4892,)\n"
     ]
    }
   ],
   "source": [
    "def upsample(features, target, repeat):\n",
    "    features_zeros = features[target == 0]\n",
    "    features_ones = features[target == 1]\n",
    "    target_zeros = target[target == 0]\n",
    "    target_ones = target[target == 1]\n",
    "\n",
    "    features_upsampled = pd.concat([features_zeros] + [features_ones] * repeat)\n",
    "    target_upsampled = pd.concat([target_zeros] + [target_ones] * repeat)\n",
    "    \n",
    "    features_upsampled, target_upsampled = shuffle(features_upsampled, target_upsampled, random_state=12345)\n",
    "    \n",
    "    return features_upsampled, target_upsampled \n",
    "\n",
    "features_upsampled, target_upsampled = upsample(features_train, target_train, 4)\n",
    "\n",
    "features_zeros = features_upsampled[target_upsampled == 0] \n",
    "features_ones = features_upsampled[target_upsampled == 1] \n",
    "target_zeros = target_upsampled[target_upsampled == 0] \n",
    "target_ones = target_upsampled[target_upsampled == 1] \n",
    "\n",
    "print(features_zeros.shape)\n",
    "print(features_ones.shape)\n",
    "print(target_zeros.shape)\n",
    "print(target_ones.shape)"
   ]
  },
  {
   "cell_type": "markdown",
   "metadata": {},
   "source": [
    "Проверяю модель решающего дерева на сбалансированных данных."
   ]
  },
  {
   "cell_type": "code",
   "execution_count": 40,
   "metadata": {},
   "outputs": [
    {
     "name": "stdout",
     "output_type": "stream",
     "text": [
      "max_depth = 1\n",
      "  F1 = 0.49916527545909845\n",
      "  AUC-ROC = 0.7128962552691366\n",
      "max_depth = 2\n",
      "  F1 = 0.5074135090609556\n",
      "  AUC-ROC = 0.7538000249864657\n",
      "max_depth = 3\n",
      "  F1 = 0.5074135090609556\n",
      "  AUC-ROC = 0.8064212132008742\n",
      "max_depth = 4\n",
      "  F1 = 0.5422594142259414\n",
      "  AUC-ROC = 0.833317909589096\n",
      "max_depth = 5\n",
      "  F1 = 0.5606190885640585\n",
      "  AUC-ROC = 0.8388110760992116\n",
      "max_depth = 6\n",
      "  F1 = 0.5752688172043011\n",
      "  AUC-ROC = 0.8339865289017832\n",
      "max_depth = 7\n",
      "  F1 = 0.5665467625899281\n",
      "  AUC-ROC = 0.8135755169653475\n",
      "max_depth = 8\n",
      "  F1 = 0.542910447761194\n",
      "  AUC-ROC = 0.7918727664490377\n",
      "max_depth = 9\n",
      "  F1 = 0.5391140433553252\n",
      "  AUC-ROC = 0.7659469947605542\n",
      "max_depth = 10\n",
      "  F1 = 0.5201177625122668\n",
      "  AUC-ROC = 0.7352352352352354\n",
      "max_depth = 11\n",
      "  F1 = 0.5144628099173554\n",
      "  AUC-ROC = 0.7181202774423113\n",
      "max_depth = 12\n",
      "  F1 = 0.5153764581124072\n",
      "  AUC-ROC = 0.7118489830354238\n",
      "max_depth = 13\n",
      "  F1 = 0.49943757030371205\n",
      "  AUC-ROC = 0.6984873934026476\n",
      "max_depth = 14\n",
      "  F1 = 0.49551569506726456\n",
      "  AUC-ROC = 0.6986177240414528\n",
      "max_depth = 15\n",
      "  F1 = 0.47871116225546606\n",
      "  AUC-ROC = 0.6842196587959299\n"
     ]
    }
   ],
   "source": [
    "for depth in range(1, 16, 1):\n",
    "    model = DecisionTreeClassifier(random_state=12345, max_depth=depth)\n",
    "    model.fit(features_upsampled, target_upsampled)\n",
    "    predictions_valid = model.predict(features_valid)\n",
    "    probabilities_valid = model.predict_proba(features_valid)\n",
    "    probabilities_one_valid = probabilities_valid[:, 1]\n",
    "    f1 = f1_score(target_valid, predictions_valid)\n",
    "    auc_roc = roc_auc_score(target_valid, probabilities_one_valid)\n",
    "    print(\"max_depth =\", depth)\n",
    "    print('  F1 =', f1)\n",
    "    print('  AUC-ROC =', auc_roc)"
   ]
  },
  {
   "cell_type": "code",
   "execution_count": 41,
   "metadata": {},
   "outputs": [],
   "source": [
    "model = DecisionTreeClassifier(random_state=12345, max_depth=8)\n",
    "model.fit(features_upsampled, target_upsampled)\n",
    "\n",
    "probabilities_valid = model.predict_proba(features_valid)\n",
    "probabilities_one_valid = probabilities_valid[:, 1]"
   ]
  },
  {
   "cell_type": "code",
   "execution_count": 42,
   "metadata": {},
   "outputs": [
    {
     "data": {
      "image/png": "[encoded data removed]",
      "text/plain": [
       "<Figure size 640x480 with 1 Axes>"
      ]
     },
     "metadata": {},
     "output_type": "display_data"
    }
   ],
   "source": [
    "fpr, tpr, thresholds = roc_curve(target_valid, probabilities_one_valid)\n",
    "\n",
    "plt.figure()\n",
    "\n",
    "plt.plot(fpr, tpr)\n",
    "plt.xlim([0.0, 1.0])\n",
    "plt.ylim([0.0, 1.0])\n",
    "plt.xlabel('False Positive Rate')\n",
    "plt.ylabel('True Positive Rate')\n",
    "plt.title('ROC-кривая')\n",
    "plt.show() "
   ]
  },
  {
   "cell_type": "markdown",
   "metadata": {},
   "source": [
    "Проверяю модель случайного леса на сбалансированных данных."
   ]
  },
  {
   "cell_type": "code",
   "execution_count": 43,
   "metadata": {},
   "outputs": [
    {
     "name": "stdout",
     "output_type": "stream",
     "text": [
      "est = 1\n",
      "  F1 = 0.49077090119435396\n",
      "  AUC-ROC = 0.6872457974152889\n",
      "est = 2\n",
      "  F1 = 0.4559270516717326\n",
      "  AUC-ROC = 0.7424743695930136\n",
      "est = 3\n",
      "  F1 = 0.5190476190476191\n",
      "  AUC-ROC = 0.767153902747123\n",
      "est = 4\n",
      "  F1 = 0.5233380480905233\n",
      "  AUC-ROC = 0.7826979521894776\n",
      "est = 5\n",
      "  F1 = 0.5648484848484848\n",
      "  AUC-ROC = 0.7965870338751695\n",
      "est = 6\n",
      "  F1 = 0.5611111111111111\n",
      "  AUC-ROC = 0.8046312876821352\n",
      "est = 7\n",
      "  F1 = 0.5696517412935324\n",
      "  AUC-ROC = 0.8001653425382238\n",
      "est = 8\n",
      "  F1 = 0.5479082321187585\n",
      "  AUC-ROC = 0.8065122132918743\n",
      "est = 9\n",
      "  F1 = 0.5739348370927317\n",
      "  AUC-ROC = 0.8143266533097042\n",
      "est = 10\n",
      "  F1 = 0.5740987983978638\n",
      "  AUC-ROC = 0.8199293284039046\n",
      "est = 11\n",
      "  F1 = 0.5801526717557253\n",
      "  AUC-ROC = 0.823908654417129\n",
      "est = 12\n",
      "  F1 = 0.5756756756756757\n",
      "  AUC-ROC = 0.8289984900154392\n",
      "est = 13\n",
      "  F1 = 0.5839793281653747\n",
      "  AUC-ROC = 0.8329253752982566\n",
      "est = 14\n",
      "  F1 = 0.5752688172043011\n",
      "  AUC-ROC = 0.8343983428729191\n",
      "est = 15\n",
      "  F1 = 0.5777202072538861\n",
      "  AUC-ROC = 0.8351803267057505\n",
      "est = 16\n",
      "  F1 = 0.5775978407557355\n",
      "  AUC-ROC = 0.8375185663321257\n",
      "est = 17\n",
      "  F1 = 0.5759162303664922\n",
      "  AUC-ROC = 0.8362491921813955\n",
      "est = 18\n",
      "  F1 = 0.576043068640646\n",
      "  AUC-ROC = 0.8365422433219042\n",
      "est = 19\n",
      "  F1 = 0.5808147174770039\n",
      "  AUC-ROC = 0.836103437798353\n",
      "est = 20\n",
      "  F1 = 0.5753052917232022\n",
      "  AUC-ROC = 0.8375694646881087\n"
     ]
    }
   ],
   "source": [
    "for est in range(1, 21):\n",
    "    model = RandomForestClassifier(random_state=12345, n_estimators=est)\n",
    "    model.fit(features_upsampled, target_upsampled)\n",
    "    predictions_valid = model.predict(features_valid)\n",
    "    probabilities_valid = model.predict_proba(features_valid)\n",
    "    probabilities_one_valid = probabilities_valid[:, 1]\n",
    "    f1 = f1_score(target_valid, predictions_valid)\n",
    "    auc_roc = roc_auc_score(target_valid, probabilities_one_valid)\n",
    "    print(\"est =\", est)\n",
    "    print('  F1 =', f1)\n",
    "    print('  AUC-ROC =', auc_roc)"
   ]
  },
  {
   "cell_type": "code",
   "execution_count": 44,
   "metadata": {},
   "outputs": [],
   "source": [
    "model = RandomForestClassifier(random_state=12345, n_estimators=19)\n",
    "model.fit(features_upsampled, target_upsampled)\n",
    "    \n",
    "probabilities_valid = model.predict_proba(features_valid)\n",
    "probabilities_one_valid = probabilities_valid[:, 1]\n"
   ]
  },
  {
   "cell_type": "code",
   "execution_count": 45,
   "metadata": {},
   "outputs": [
    {
     "data": {
      "image/png": "[encoded data removed]",
      "text/plain": [
       "<Figure size 640x480 with 1 Axes>"
      ]
     },
     "metadata": {},
     "output_type": "display_data"
    }
   ],
   "source": [
    "fpr, tpr, thresholds = roc_curve(target_valid, probabilities_one_valid)\n",
    "\n",
    "plt.figure()\n",
    "\n",
    "plt.plot(fpr, tpr)\n",
    "plt.xlim([0.0, 1.0])\n",
    "plt.ylim([0.0, 1.0])\n",
    "plt.xlabel('False Positive Rate')\n",
    "plt.ylabel('True Positive Rate')\n",
    "plt.title('ROC-кривая')\n",
    "plt.show() "
   ]
  },
  {
   "cell_type": "markdown",
   "metadata": {},
   "source": [
    "Проверяю модель логистической регрессии на сбалансированных данных."
   ]
  },
  {
   "cell_type": "code",
   "execution_count": 46,
   "metadata": {},
   "outputs": [
    {
     "name": "stdout",
     "output_type": "stream",
     "text": [
      "itr = 500\n",
      "  F1 = 0.5068493150684932\n",
      "  AUC-ROC = 0.7917995036639105\n",
      "itr = 600\n",
      "  F1 = 0.5068493150684932\n",
      "  AUC-ROC = 0.7917995036639105\n",
      "itr = 700\n",
      "  F1 = 0.5068493150684932\n",
      "  AUC-ROC = 0.7917995036639105\n",
      "itr = 800\n",
      "  F1 = 0.5068493150684932\n",
      "  AUC-ROC = 0.7917995036639105\n",
      "itr = 900\n",
      "  F1 = 0.5068493150684932\n",
      "  AUC-ROC = 0.7917995036639105\n"
     ]
    }
   ],
   "source": [
    "for itr in range(500, 1000, 100):\n",
    "    model = LogisticRegression(random_state=12345, solver='liblinear', max_iter=itr)\n",
    "    model.fit(features_upsampled, target_upsampled)\n",
    "    predictions_valid = model.predict(features_valid)\n",
    "    probabilities_valid = model.predict_proba(features_valid)\n",
    "    probabilities_one_valid = probabilities_valid[:, 1]\n",
    "    f1 = f1_score(target_valid, predictions_valid)\n",
    "    auc_roc = roc_auc_score(target_valid, probabilities_one_valid)\n",
    "    print(\"itr =\", itr)\n",
    "    print('  F1 =', f1)\n",
    "    print('  AUC-ROC =', auc_roc)"
   ]
  },
  {
   "cell_type": "code",
   "execution_count": 47,
   "metadata": {},
   "outputs": [],
   "source": [
    "model = LogisticRegression(random_state=12345, solver='liblinear', max_iter=500)\n",
    "model.fit(features_upsampled, target_upsampled)\n",
    "\n",
    "probabilities_valid = model.predict_proba(features_valid)\n",
    "probabilities_one_valid = probabilities_valid[:, 1]\n"
   ]
  },
  {
   "cell_type": "code",
   "execution_count": 48,
   "metadata": {},
   "outputs": [
    {
     "data": {
      "image/png": "[encoded data removed]",
      "text/plain": [
       "<Figure size 640x480 with 1 Axes>"
      ]
     },
     "metadata": {},
     "output_type": "display_data"
    }
   ],
   "source": [
    "fpr, tpr, thresholds = roc_curve(target_valid, probabilities_one_valid)\n",
    "\n",
    "plt.figure()\n",
    "\n",
    "plt.plot(fpr, tpr)\n",
    "plt.xlim([0.0, 1.0])\n",
    "plt.ylim([0.0, 1.0])\n",
    "plt.xlabel('False Positive Rate')\n",
    "plt.ylabel('True Positive Rate')\n",
    "plt.title('ROC-кривая')\n",
    "plt.show() "
   ]
  },
  {
   "cell_type": "markdown",
   "metadata": {},
   "source": [
    "<div class=\"alert alert-warning\">\n",
    "<h2> Комментарий ревьюера ⚠️ <a class=\"tocSkip\"> </h2>\n",
    "\n",
    "Может стоит взять repeat чуть больше? Дисбаланс как-будто все еще присутствует"
   ]
  },
  {
   "cell_type": "markdown",
   "metadata": {},
   "source": [
    "<div class=\"alert alert-info\"> <b>Комментарий студента:</b>Увеличил количество повторов до 4 и добавил серию тестов для upsampled данных.</div>"
   ]
  },
  {
   "cell_type": "markdown",
   "metadata": {},
   "source": [
    "Уменьшил количество нолей при помощи техники downsampling, предварительно увеличивая количество единиц при помощи upsampling с числом повторов 2."
   ]
  },
  {
   "cell_type": "code",
   "execution_count": 49,
   "metadata": {},
   "outputs": [
    {
     "name": "stdout",
     "output_type": "stream",
     "text": [
      "(2446, 11)\n",
      "(2446, 11)\n",
      "(2446,)\n",
      "(2446,)\n"
     ]
    }
   ],
   "source": [
    "def downsample(features, target, fraction):\n",
    "    features_zeros = features[target == 0]\n",
    "    features_ones = features[target == 1]\n",
    "    target_zeros = target[target == 0]\n",
    "    target_ones = target[target == 1]\n",
    "\n",
    "    features_downsampled = pd.concat(\n",
    "        [features_zeros.sample(frac=fraction, random_state=12345)] + [features_ones])\n",
    "    target_downsampled = pd.concat(\n",
    "        [target_zeros.sample(frac=fraction, random_state=12345)] + [target_ones])\n",
    "    features_downsampled, target_downsampled = shuffle(features_downsampled, target_downsampled, random_state=12345)\n",
    "    \n",
    "    return features_downsampled, target_downsampled\n",
    "\n",
    "features_upsampled, target_upsampled = upsample(features_train, target_train, 2)\n",
    "features_balanced, target_balanced = downsample(features_upsampled, target_upsampled, 0.512)\n",
    "\n",
    "\n",
    "features_zeros = features_balanced[target_balanced == 0] \n",
    "features_ones = features_balanced[target_balanced == 1] \n",
    "target_zeros = target_balanced[target_balanced == 0] \n",
    "target_ones = target_balanced[target_balanced == 1] \n",
    "\n",
    "print(features_zeros.shape)\n",
    "print(features_ones.shape)\n",
    "print(target_zeros.shape)\n",
    "print(target_ones.shape)"
   ]
  },
  {
   "cell_type": "markdown",
   "metadata": {},
   "source": [
    "<div class=\"alert alert-success\">\n",
    "<h2> Комментарий ревьюера ✔️ <a class=\"tocSkip\"> </h2>\n",
    "\n",
    "А вот здесь все отлично"
   ]
  },
  {
   "cell_type": "markdown",
   "metadata": {},
   "source": [
    "Проверяю модель решающего дерева на сбалансированных данных."
   ]
  },
  {
   "cell_type": "code",
   "execution_count": 50,
   "metadata": {},
   "outputs": [
    {
     "name": "stdout",
     "output_type": "stream",
     "text": [
      "max_depth = 1\n",
      "  F1 = 0.4804381846635367\n",
      "  AUC-ROC = 0.7001253950406494\n",
      "max_depth = 2\n",
      "  F1 = 0.4860681114551083\n",
      "  AUC-ROC = 0.7406111812891475\n",
      "max_depth = 3\n",
      "  F1 = 0.5159817351598174\n",
      "  AUC-ROC = 0.7942888959838112\n",
      "max_depth = 4\n",
      "  F1 = 0.5220883534136547\n",
      "  AUC-ROC = 0.8136611187458646\n",
      "max_depth = 5\n",
      "  F1 = 0.5564168819982773\n",
      "  AUC-ROC = 0.8336865370763675\n",
      "max_depth = 6\n",
      "  F1 = 0.5587703435804702\n",
      "  AUC-ROC = 0.8327765361663666\n",
      "max_depth = 7\n",
      "  F1 = 0.5568181818181818\n",
      "  AUC-ROC = 0.8126732279274652\n",
      "max_depth = 8\n",
      "  F1 = 0.5699693564862104\n",
      "  AUC-ROC = 0.7866849900748207\n",
      "max_depth = 9\n",
      "  F1 = 0.5475206611570248\n",
      "  AUC-ROC = 0.7749058766007919\n",
      "max_depth = 10\n",
      "  F1 = 0.5242914979757084\n",
      "  AUC-ROC = 0.741785699412818\n",
      "max_depth = 11\n",
      "  F1 = 0.5351239669421487\n",
      "  AUC-ROC = 0.7462285089403734\n",
      "max_depth = 12\n",
      "  F1 = 0.5353846153846155\n",
      "  AUC-ROC = 0.7309829089490106\n",
      "max_depth = 13\n",
      "  F1 = 0.5067778936392076\n",
      "  AUC-ROC = 0.7059470873030196\n",
      "max_depth = 14\n",
      "  F1 = 0.5015290519877675\n",
      "  AUC-ROC = 0.7023965413795922\n",
      "max_depth = 15\n",
      "  F1 = 0.5154639175257733\n",
      "  AUC-ROC = 0.7135926373214508\n"
     ]
    }
   ],
   "source": [
    "for depth in range(1, 16, 1):\n",
    "    model = DecisionTreeClassifier(random_state=12345, max_depth=depth)\n",
    "    model.fit(features_balanced, target_balanced)\n",
    "    predictions_valid = model.predict(features_valid)\n",
    "    probabilities_valid = model.predict_proba(features_valid)\n",
    "    probabilities_one_valid = probabilities_valid[:, 1]\n",
    "    f1 = f1_score(target_valid, predictions_valid)\n",
    "    auc_roc = roc_auc_score(target_valid, probabilities_one_valid)\n",
    "    print(\"max_depth =\", depth)\n",
    "    print('  F1 =', f1)\n",
    "    print('  AUC-ROC =', auc_roc)"
   ]
  },
  {
   "cell_type": "code",
   "execution_count": 51,
   "metadata": {},
   "outputs": [],
   "source": [
    "model = DecisionTreeClassifier(random_state=12345, max_depth=8)\n",
    "model.fit(features_balanced, target_balanced)\n",
    "\n",
    "probabilities_valid = model.predict_proba(features_valid)\n",
    "probabilities_one_valid = probabilities_valid[:, 1]\n"
   ]
  },
  {
   "cell_type": "code",
   "execution_count": 52,
   "metadata": {},
   "outputs": [
    {
     "data": {
      "image/png": "[encoded data removed]",
      "text/plain": [
       "<Figure size 640x480 with 1 Axes>"
      ]
     },
     "metadata": {},
     "output_type": "display_data"
    }
   ],
   "source": [
    "fpr, tpr, thresholds = roc_curve(target_valid, probabilities_one_valid)\n",
    "\n",
    "plt.figure()\n",
    "\n",
    "plt.plot(fpr, tpr)\n",
    "plt.xlim([0.0, 1.0])\n",
    "plt.ylim([0.0, 1.0])\n",
    "plt.xlabel('False Positive Rate')\n",
    "plt.ylabel('True Positive Rate')\n",
    "plt.title('ROC-кривая')\n",
    "plt.show() "
   ]
  },
  {
   "cell_type": "markdown",
   "metadata": {},
   "source": [
    "Модель решающего дерева показала наилучший результат  F1 = 0.5894519131334023 AUC-ROC = 0.8084093338330627 при max_depth=8"
   ]
  },
  {
   "cell_type": "markdown",
   "metadata": {},
   "source": [
    "Проверяю модель случайного леса на сбалансированных данных."
   ]
  },
  {
   "cell_type": "code",
   "execution_count": 53,
   "metadata": {},
   "outputs": [
    {
     "name": "stdout",
     "output_type": "stream",
     "text": [
      "est = 1\n",
      "  F1 = 0.47689463955637706\n",
      "  AUC-ROC = 0.6860681945427708\n",
      "est = 2\n",
      "  F1 = 0.4986945169712793\n",
      "  AUC-ROC = 0.7413530633869616\n",
      "est = 3\n",
      "  F1 = 0.5239043824701195\n",
      "  AUC-ROC = 0.7762076406144203\n",
      "est = 4\n",
      "  F1 = 0.5400739827373613\n",
      "  AUC-ROC = 0.7882512713021188\n",
      "est = 5\n",
      "  F1 = 0.5542916235780766\n",
      "  AUC-ROC = 0.8011678859136486\n",
      "est = 6\n",
      "  F1 = 0.5636147443519619\n",
      "  AUC-ROC = 0.8067227474007135\n",
      "est = 7\n",
      "  F1 = 0.5567226890756302\n",
      "  AUC-ROC = 0.8122930326320157\n",
      "est = 8\n",
      "  F1 = 0.5727482678983834\n",
      "  AUC-ROC = 0.8153261119362815\n",
      "est = 9\n",
      "  F1 = 0.562566844919786\n",
      "  AUC-ROC = 0.8146058230803994\n",
      "est = 10\n",
      "  F1 = 0.5780346820809249\n",
      "  AUC-ROC = 0.8194843533826585\n",
      "est = 11\n",
      "  F1 = 0.5705059203444564\n",
      "  AUC-ROC = 0.8217308217308217\n",
      "est = 12\n",
      "  F1 = 0.5866050808314088\n",
      "  AUC-ROC = 0.8261713176967415\n",
      "est = 13\n",
      "  F1 = 0.5895196506550219\n",
      "  AUC-ROC = 0.8305416356263814\n",
      "est = 14\n",
      "  F1 = 0.6032863849765258\n",
      "  AUC-ROC = 0.832643120778714\n",
      "est = 15\n",
      "  F1 = 0.5912087912087912\n",
      "  AUC-ROC = 0.8323392730172392\n",
      "est = 16\n",
      "  F1 = 0.5986078886310905\n",
      "  AUC-ROC = 0.8346906228262161\n",
      "est = 17\n",
      "  F1 = 0.5993340732519423\n",
      "  AUC-ROC = 0.8368592012659809\n",
      "est = 18\n",
      "  F1 = 0.599537037037037\n",
      "  AUC-ROC = 0.8378224140936005\n",
      "est = 19\n",
      "  F1 = 0.5891472868217054\n",
      "  AUC-ROC = 0.8380653380653381\n",
      "est = 20\n",
      "  F1 = 0.5954022988505747\n",
      "  AUC-ROC = 0.8388658303912541\n"
     ]
    }
   ],
   "source": [
    "for est in range(1, 21):\n",
    "    model = RandomForestClassifier(random_state=12345, n_estimators=est)\n",
    "    model.fit(features_balanced, target_balanced)\n",
    "    predictions_valid = model.predict(features_valid)\n",
    "    probabilities_valid = model.predict_proba(features_valid)\n",
    "    probabilities_one_valid = probabilities_valid[:, 1]\n",
    "    f1 = f1_score(target_valid, predictions_valid)\n",
    "    auc_roc = roc_auc_score(target_valid, probabilities_one_valid)\n",
    "    print(\"est =\", est)\n",
    "    print('  F1 =', f1)\n",
    "    print('  AUC-ROC =', auc_roc)\n"
   ]
  },
  {
   "cell_type": "code",
   "execution_count": 54,
   "metadata": {},
   "outputs": [],
   "source": [
    "model = RandomForestClassifier(random_state=12345, n_estimators=19)\n",
    "model.fit(features_balanced, target_balanced)\n",
    "    \n",
    "probabilities_valid = model.predict_proba(features_valid)\n",
    "probabilities_one_valid = probabilities_valid[:, 1]\n"
   ]
  },
  {
   "cell_type": "code",
   "execution_count": 55,
   "metadata": {},
   "outputs": [
    {
     "data": {
      "image/png": "[encoded data removed]",
      "text/plain": [
       "<Figure size 640x480 with 1 Axes>"
      ]
     },
     "metadata": {},
     "output_type": "display_data"
    }
   ],
   "source": [
    "fpr, tpr, thresholds = roc_curve(target_valid, probabilities_one_valid)\n",
    "\n",
    "plt.figure()\n",
    "\n",
    "plt.plot(fpr, tpr)\n",
    "plt.xlim([0.0, 1.0])\n",
    "plt.ylim([0.0, 1.0])\n",
    "plt.xlabel('False Positive Rate')\n",
    "plt.ylabel('True Positive Rate')\n",
    "plt.title('ROC-кривая')\n",
    "plt.show() "
   ]
  },
  {
   "cell_type": "markdown",
   "metadata": {},
   "source": [
    "Модель случайного леса показала наилучший результат  F1 = 0.6129032258064515 AUC-ROC = 0.8377021088885495 при n_estimators=19"
   ]
  },
  {
   "cell_type": "markdown",
   "metadata": {},
   "source": [
    "Проверяю модель логистической регрессии на сбалансированных данных."
   ]
  },
  {
   "cell_type": "code",
   "execution_count": 56,
   "metadata": {},
   "outputs": [
    {
     "name": "stdout",
     "output_type": "stream",
     "text": [
      "itr = 500\n",
      "  F1 = 0.5087412587412588\n",
      "  AUC-ROC = 0.7906195872297567\n",
      "itr = 600\n",
      "  F1 = 0.5087412587412588\n",
      "  AUC-ROC = 0.7906195872297567\n",
      "itr = 700\n",
      "  F1 = 0.5087412587412588\n",
      "  AUC-ROC = 0.7906195872297567\n",
      "itr = 800\n",
      "  F1 = 0.5087412587412588\n",
      "  AUC-ROC = 0.7906195872297567\n",
      "itr = 900\n",
      "  F1 = 0.5087412587412588\n",
      "  AUC-ROC = 0.7906195872297567\n"
     ]
    }
   ],
   "source": [
    "for itr in range(500, 1000, 100):\n",
    "    model = LogisticRegression(random_state=12345, solver='liblinear', max_iter=itr)\n",
    "    model.fit(features_balanced, target_balanced)\n",
    "    predictions_valid = model.predict(features_valid)\n",
    "    probabilities_valid = model.predict_proba(features_valid)\n",
    "    probabilities_one_valid = probabilities_valid[:, 1]\n",
    "    f1 = f1_score(target_valid, predictions_valid)\n",
    "    auc_roc = roc_auc_score(target_valid, probabilities_one_valid)\n",
    "    print(\"itr =\", itr)\n",
    "    print('  F1 =', f1)\n",
    "    print('  AUC-ROC =', auc_roc)\n"
   ]
  },
  {
   "cell_type": "markdown",
   "metadata": {},
   "source": [
    "<div style=\"border:solid purple 5px; padding: 20px\"> \n",
    "<h2 align=\"center\"> Рубрика «Питонячий лайфхакер» <a class=\"tocSkip\"> </h2>\n",
    "\n",
    "<h3> Индикаторы состояния: progress и tqdm <a class=\"tocSkip\"> </h3>\n",
    "\n",
    "Как перестать беспокоиться о том, не завис ли скрипт? Вы можете создавать свои индикаторы состояния. Это весьма увлекательное занятие. Но делать то же самое с [progress](https://pypi.org/project/progress/) (ее обычно используют для работы из консоли) или [tqdm](https://pypi.org/project/tqdm/) (отлично подойдет для тетрадок) куда быстрее и надежнее.\n",
    "\n",
    "Обычно я использую эти две библиотеки, но вот [здесь](https://habr.com/ru/post/483400/) ты можешь почитать про альтернативные варианты\n",
    "\n",
    "![](https://i.ibb.co/B4SDm8Y/68747470733a2f2f7261772e6769746875622e636f6d2f7665726967616b2f70726f67726573732f6d61737465722f64656d.gif)"
   ]
  },
  {
   "cell_type": "code",
   "execution_count": 57,
   "metadata": {},
   "outputs": [],
   "source": [
    "model = LogisticRegression(random_state=12345, solver='liblinear', max_iter=500)\n",
    "model.fit(features_balanced, target_balanced)\n",
    "\n",
    "probabilities_valid = model.predict_proba(features_valid)\n",
    "probabilities_one_valid = probabilities_valid[:, 1]\n"
   ]
  },
  {
   "cell_type": "code",
   "execution_count": 58,
   "metadata": {},
   "outputs": [
    {
     "data": {
      "image/png": "[encoded data removed]",
      "text/plain": [
       "<Figure size 640x480 with 1 Axes>"
      ]
     },
     "metadata": {},
     "output_type": "display_data"
    }
   ],
   "source": [
    "fpr, tpr, thresholds = roc_curve(target_valid, probabilities_one_valid)\n",
    "\n",
    "plt.figure()\n",
    "\n",
    "plt.plot(fpr, tpr)\n",
    "plt.xlim([0.0, 1.0])\n",
    "plt.ylim([0.0, 1.0])\n",
    "plt.xlabel('False Positive Rate')\n",
    "plt.ylabel('True Positive Rate')\n",
    "plt.title('ROC-кривая')\n",
    "plt.show() "
   ]
  },
  {
   "cell_type": "markdown",
   "metadata": {},
   "source": [
    "Модель логистической регрессии показала наилучший результат F1 = 0.5058087578194818 AUC-ROC = 0.7604075570177264 при max_iter=500"
   ]
  },
  {
   "cell_type": "markdown",
   "metadata": {},
   "source": [
    "## Вывод"
   ]
  },
  {
   "cell_type": "markdown",
   "metadata": {},
   "source": [
    "На сбалансированных данных наилучший результат достигнут моделью случайного леса F1 = 0.6129032258064515 AUC-ROC = 0.8377021088885495 при n_estimators=19"
   ]
  },
  {
   "cell_type": "markdown",
   "metadata": {},
   "source": [
    "<div class=\"alert alert-danger\">\n",
    "<h2> Комментарий ревьюера ❌ <a class=\"tocSkip\"> </h2>\n",
    "\n",
    "В проекте просят протестировать несколько методов борьбы с дисбалансом. downsample ты реализовал, а upsample нет. Также можно попробовать встроенный функционал-гипперпараметр `class_weight='balanced'`"
   ]
  },
  {
   "cell_type": "markdown",
   "metadata": {},
   "source": [
    "<div class=\"alert alert-info\"> <b>Комментарий студента:</b>Добавил серию тестов для upsampled data. Текже добавил тесты для моделей с гиперпараметром class_weight='balanced'</div>"
   ]
  },
  {
   "cell_type": "markdown",
   "metadata": {},
   "source": [
    "## Тестирование модели"
   ]
  },
  {
   "cell_type": "markdown",
   "metadata": {},
   "source": [
    "Проверяю модель случайного леса с n_estimators=19 на тестовой выборке."
   ]
  },
  {
   "cell_type": "code",
   "execution_count": 59,
   "metadata": {},
   "outputs": [
    {
     "name": "stdout",
     "output_type": "stream",
     "text": [
      "F1-мера: 0.6039823008849557\n",
      "AUC-ROC: 0.8449720907348026\n"
     ]
    }
   ],
   "source": [
    "model = RandomForestClassifier(random_state=12345, n_estimators=19)\n",
    "model.fit(features_balanced, target_balanced)\n",
    "predictions_test = model.predict(features_test) \n",
    "probabilities_test = model.predict_proba(features_test)\n",
    "probabilities_one_test = probabilities_test[:, 1]\n",
    "\n",
    "f1 = f1_score(target_test, predictions_test)\n",
    "auc_roc = roc_auc_score(target_test, probabilities_one_test)\n",
    "\n",
    "print(\"F1-мера:\", f1)\n",
    "print(\"AUC-ROC:\", auc_roc)"
   ]
  },
  {
   "cell_type": "markdown",
   "metadata": {},
   "source": [
    "<s>Данные метрик неудовлетворительные. Это связано, скорее всего, с тем, что модель обучалась на масштабированных данных, а прогноз делается не на масштабированных. Поэтому масштабирую тестовые данные при помощи техники upsampling.</s>"
   ]
  },
  {
   "cell_type": "markdown",
   "metadata": {},
   "source": [
    "<div class=\"alert alert-danger\">\n",
    "<h2> Комментарий ревьюера ❌ <a class=\"tocSkip\"> </h2>\n",
    "\n",
    "Не совсем правильно.Низкие метрики связаны с тем, что обучающую выборку ты стандартизируешь через StandardScaler, а тестовую нет. Масштабирование тестовой выборки через upsampling здесь никак не поможет, это нужжно убрать"
   ]
  },
  {
   "cell_type": "markdown",
   "metadata": {},
   "source": [
    "<div class=\"alert alert-info\"> <b>Комментарий студента:</b> Поправил. Спасибо!</div>"
   ]
  },
  {
   "cell_type": "code",
   "execution_count": 60,
   "metadata": {},
   "outputs": [],
   "source": [
    "#features_test_upsampled, target_test_upsampled = upsample(features_test, target_test, 2)\n",
    "\n",
    "#features_zeros = features_test_upsampled[target_test_upsampled == 0] \n",
    "#features_ones = features_test_upsampled[target_test_upsampled == 1] \n",
    "#target_zeros = target_test_upsampled[target_test_upsampled == 0] \n",
    "#target_ones = target_test_upsampled[target_test_upsampled == 1] \n",
    "\n",
    "#print(features_zeros.shape)\n",
    "#print(features_ones.shape)\n",
    "#print(target_zeros.shape)\n",
    "#print(target_ones.shape)"
   ]
  },
  {
   "cell_type": "markdown",
   "metadata": {},
   "source": [
    "<s>Масштабирую тестовую выборку при помощи техники downsampling.</s>"
   ]
  },
  {
   "cell_type": "code",
   "execution_count": 61,
   "metadata": {},
   "outputs": [],
   "source": [
    "#features_test_balanced, target_test_balanced = downsample(features_test_upsampled, target_test_upsampled, 0.511)\n",
    "\n",
    "#features_zeros = features_test_balanced[target_test_balanced == 0] \n",
    "#features_ones = features_test_balanced[target_test_balanced == 1] \n",
    "#target_zeros = target_test_balanced[target_test_balanced == 0] \n",
    "#target_ones = target_test_balanced[target_test_balanced == 1] \n",
    "\n",
    "#print(features_zeros.shape)\n",
    "#print(features_ones.shape)\n",
    "#print(target_zeros.shape)\n",
    "#print(target_ones.shape)"
   ]
  },
  {
   "cell_type": "markdown",
   "metadata": {},
   "source": [
    "<s>Провожу финальное тестировоание на сбалансированной выборке. При этом изменяю значение порога в цикле.</s>"
   ]
  },
  {
   "cell_type": "code",
   "execution_count": 62,
   "metadata": {},
   "outputs": [],
   "source": [
    "#predictions_test = model.predict(features_test_balanced) \n",
    "#probabilities_test = model.predict_proba(features_test_balanced)\n",
    "#probabilities_one_test = probabilities_test[:, 1]\n",
    "\n",
    "#for threshold in np.arange(0, 0.3, 0.02):\n",
    "#    predicted_test = probabilities_one_test > threshold \n",
    "#    precision = precision_score(target_test_balanced, predicted_test)\n",
    "#    recall = recall_score(target_test_balanced, predicted_test)\n",
    "#    f1 = 2 * precision * recall / (precision + recall) \n",
    "\n",
    "#    print(\"Порог = {:.2f} | Точность = {:.3f}, Полнота = {:.3f}, F1 = {:.3f}\".format(\n",
    "#        threshold, precision, recall, f1))"
   ]
  },
  {
   "cell_type": "markdown",
   "metadata": {},
   "source": [
    "## Вывод"
   ]
  },
  {
   "cell_type": "markdown",
   "metadata": {},
   "source": [
    "Модель для прогнозирования оттока построена и обучена. Наилучшее значение F1 меры, полученное в процессе тестирования = 0.6039823008849557"
   ]
  },
  {
   "cell_type": "markdown",
   "metadata": {},
   "source": [
    "## Раздел для тренировок с GitHub"
   ]
  },
  {
   "cell_type": "markdown",
   "metadata": {},
   "source": [
    "Проверяю модель решающего дерева на тестовой выборке с параметром max_depth=8 (с этим параметром я добился наилучшего результата на валидационной выборке)"
   ]
  },
  {
   "cell_type": "code",
   "execution_count": 63,
   "metadata": {},
   "outputs": [
    {
     "name": "stdout",
     "output_type": "stream",
     "text": [
      "F1-мера: 0.578616352201258\n",
      "AUC-ROC: 0.8032192438972101\n"
     ]
    }
   ],
   "source": [
    "model = DecisionTreeClassifier(random_state=12345, max_depth=8)\n",
    "model.fit(features_balanced, target_balanced)\n",
    "predictions_test = model.predict(features_test) \n",
    "probabilities_test = model.predict_proba(features_test)\n",
    "probabilities_one_test = probabilities_test[:, 1]\n",
    "\n",
    "f1 = f1_score(target_test, predictions_test)\n",
    "auc_roc = roc_auc_score(target_test, probabilities_one_test)\n",
    "\n",
    "print(\"F1-мера:\", f1)\n",
    "print(\"AUC-ROC:\", auc_roc)"
   ]
  },
  {
   "cell_type": "markdown",
   "metadata": {},
   "source": [
    "Получил значение F1-меры ниже целевой."
   ]
  },
  {
   "cell_type": "markdown",
   "metadata": {},
   "source": [
    "## Чек-лист готовности проекта"
   ]
  },
  {
   "cell_type": "markdown",
   "metadata": {},
   "source": [
    "Поставьте 'x' в выполненных пунктах. Далее нажмите Shift+Enter."
   ]
  },
  {
   "cell_type": "markdown",
   "metadata": {},
   "source": [
    "- [x]  Jupyter Notebook открыт\n",
    "- [x]  Весь код выполняется без ошибок\n",
    "- [x]  Ячейки с кодом расположены в порядке исполнения\n",
    "- [x]  Выполнен шаг 1: данные подготовлены\n",
    "- [x]  Выполнен шаг 2: задача исследована\n",
    "    - [x]  Исследован баланс классов\n",
    "    - [x]  Изучены модели без учёта дисбаланса\n",
    "    - [x]  Написаны выводы по результатам исследования\n",
    "- [x]  Выполнен шаг 3: учтён дисбаланс\n",
    "    - [x]  Применено несколько способов борьбы с дисбалансом\n",
    "    - [x]  Написаны выводы по результатам исследования\n",
    "- [x]  Выполнен шаг 4: проведено тестирование\n",
    "- [x]  Удалось достичь *F1*-меры не менее 0.59\n",
    "- [x]  Исследована метрика *AUC-ROC*"
   ]
  },
  {
   "cell_type": "code",
   "execution_count": null,
   "metadata": {},
   "outputs": [],
   "source": []
  }
 ],
 "metadata": {
  "ExecuteTimeLog": [
   {
    "duration": 1902,
    "start_time": "2022-09-27T14:14:20.122Z"
   },
   {
    "duration": 43,
    "start_time": "2022-09-27T14:14:22.026Z"
   },
   {
    "duration": 23,
    "start_time": "2022-09-27T14:14:22.071Z"
   },
   {
    "duration": 19,
    "start_time": "2022-09-27T14:14:22.096Z"
   },
   {
    "duration": 5,
    "start_time": "2022-09-27T14:14:22.117Z"
   },
   {
    "duration": 9,
    "start_time": "2022-09-27T14:14:22.124Z"
   },
   {
    "duration": 16,
    "start_time": "2022-09-27T14:14:22.135Z"
   },
   {
    "duration": 7,
    "start_time": "2022-09-27T14:14:22.153Z"
   },
   {
    "duration": 266,
    "start_time": "2022-09-27T14:14:22.162Z"
   },
   {
    "duration": 72,
    "start_time": "2022-09-27T14:14:22.431Z"
   },
   {
    "duration": 64,
    "start_time": "2022-09-27T14:14:22.505Z"
   },
   {
    "duration": 3,
    "start_time": "2022-09-27T14:14:22.571Z"
   },
   {
    "duration": 95,
    "start_time": "2022-09-27T14:14:22.576Z"
   },
   {
    "duration": 4,
    "start_time": "2022-09-27T14:14:22.672Z"
   },
   {
    "duration": 34,
    "start_time": "2022-09-27T14:14:22.677Z"
   },
   {
    "duration": 42,
    "start_time": "2022-09-27T14:14:22.713Z"
   },
   {
    "duration": 6,
    "start_time": "2022-09-27T14:14:22.757Z"
   },
   {
    "duration": 19,
    "start_time": "2022-09-27T14:14:22.765Z"
   },
   {
    "duration": 6743,
    "start_time": "2022-09-27T14:14:22.786Z"
   },
   {
    "duration": 406,
    "start_time": "2022-09-27T14:14:29.531Z"
   },
   {
    "duration": 143,
    "start_time": "2022-09-27T14:14:29.939Z"
   },
   {
    "duration": 20223,
    "start_time": "2022-09-27T14:14:30.084Z"
   },
   {
    "duration": 1255,
    "start_time": "2022-09-27T14:14:50.308Z"
   },
   {
    "duration": 127,
    "start_time": "2022-09-27T14:14:51.565Z"
   },
   {
    "duration": 3907,
    "start_time": "2022-09-27T14:14:51.694Z"
   },
   {
    "duration": 527,
    "start_time": "2022-09-27T14:14:55.604Z"
   },
   {
    "duration": 204,
    "start_time": "2022-09-27T14:14:56.199Z"
   },
   {
    "duration": 36,
    "start_time": "2022-09-27T14:14:56.406Z"
   },
   {
    "duration": 144,
    "start_time": "2022-09-27T14:14:56.444Z"
   },
   {
    "duration": 116,
    "start_time": "2022-09-27T14:14:56.596Z"
   },
   {
    "duration": 4498,
    "start_time": "2022-09-27T14:14:56.714Z"
   },
   {
    "duration": 287,
    "start_time": "2022-09-27T14:15:01.214Z"
   },
   {
    "duration": 123,
    "start_time": "2022-09-27T14:15:01.503Z"
   },
   {
    "duration": 16083,
    "start_time": "2022-09-27T14:15:01.628Z"
   },
   {
    "duration": 1229,
    "start_time": "2022-09-27T14:15:17.712Z"
   },
   {
    "duration": 122,
    "start_time": "2022-09-27T14:15:18.943Z"
   },
   {
    "duration": 3433,
    "start_time": "2022-09-27T14:15:19.067Z"
   },
   {
    "duration": 453,
    "start_time": "2022-09-27T14:15:22.502Z"
   },
   {
    "duration": 299,
    "start_time": "2022-09-27T14:15:22.998Z"
   },
   {
    "duration": 1267,
    "start_time": "2022-09-27T14:15:23.299Z"
   },
   {
    "duration": 52,
    "start_time": "2022-09-27T14:15:24.568Z"
   },
   {
    "duration": 42,
    "start_time": "2022-09-27T14:15:24.622Z"
   },
   {
    "duration": 160,
    "start_time": "2022-09-27T14:15:24.666Z"
   },
   {
    "duration": 19,
    "start_time": "2022-09-27T15:30:10.183Z"
   },
   {
    "duration": 7,
    "start_time": "2022-09-27T15:35:02.264Z"
   },
   {
    "duration": 880,
    "start_time": "2022-09-27T15:48:15.489Z"
   },
   {
    "duration": 929,
    "start_time": "2022-09-27T15:48:30.101Z"
   }
  ],
  "kernelspec": {
   "display_name": "Python 3",
   "language": "python",
   "name": "python3"
  },
  "language_info": {
   "codemirror_mode": {
    "name": "ipython",
    "version": 3
   },
   "file_extension": ".py",
   "mimetype": "text/x-python",
   "name": "python",
   "nbconvert_exporter": "python",
   "pygments_lexer": "ipython3",
   "version": "3.10.7"
  },
  "toc": {
   "base_numbering": 1,
   "nav_menu": {},
   "number_sections": true,
   "sideBar": true,
   "skip_h1_title": true,
   "title_cell": "Содержание",
   "title_sidebar": "Contents",
   "toc_cell": true,
   "toc_position": {},
   "toc_section_display": true,
   "toc_window_display": false
  }
 },
 "nbformat": 4,
 "nbformat_minor": 4
}
