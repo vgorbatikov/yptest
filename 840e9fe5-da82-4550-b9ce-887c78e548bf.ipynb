{
 "cells": [
  {
   "cell_type": "markdown",
   "metadata": {},
   "source": [
    "<div style=\"border:solid purple 2px; padding: 20px\"> \n",
    "\n",
    "Привет Валерий! 👋\n",
    "\n",
    "Меня зовут Рустам Муртазин, и я буду делать ревью твоей работы. Давай будем общаться на **«ты»**. Если это неприемлемо, обязательно напиши мне в комментариях — мы перейдем на **«вы»**.\n",
    "\n",
    "Я не хочу указавать тебе на совершенные тобою ошибки, а хочу поделиться своим опытом и помочь тебе стать настоящим профессионалом и сделать проект еще лучше.\n",
    "\n",
    "Обрати внимание в первую очередь на те, что помечаны <span style=\"color:red\">красным цветом</span>. После их доработки проект будет принят. <span style=\"color:green\">Зеленым цветом</span> отмечены удачные и элегантные решения, на которые можно опираться в будущих проектах. <span style=\"color:orange\">Оранжевым цветом</span> выделено то, что в следующий раз можно сделать по-другому. Ты можешь учесть эти комментарии при выполнении будущих заданий или доработать проект сейчас (однако это не обязательно). Также в проекте могут быть небольшие «лайфхаки» по Python, не относящиеся к проекту, их я выделил фиолетовым цветом)\n",
    "\n",
    "Давай работать над проектом в диалоге: если ты **что-то меняешь** в проекте по моим рекомендациям — **пиши об этом**. Выбери для своих комментариев какой-то заметный цвет, так мне будет легче отследить изменения. Пожалуйста, **не перемещай, не изменяй и не удаляй мои комментарии**. Всё это поможет выполнить повторную проверку твоего проекта оперативнее».\n",
    "\n",
    "Мне понравился твой проект, есть пару замечаний, но их не много, я думаю ты быстро справишься. Жду твою работу на повторное ревью :)"
   ]
  },
  {
   "cell_type": "markdown",
   "metadata": {
    "toc": true
   },
   "source": [
    "<h1>Содержание<span class=\"tocSkip\"></span></h1>\n",
    "<div class=\"toc\"><ul class=\"toc-item\"><li><span><a href=\"#Введение\" data-toc-modified-id=\"Введение-1\"><span class=\"toc-item-num\">1&nbsp;&nbsp;</span>Введение</a></span></li><li><span><a href=\"#Подготовка-данных\" data-toc-modified-id=\"Подготовка-данных-2\"><span class=\"toc-item-num\">2&nbsp;&nbsp;</span>Подготовка данных</a></span></li><li><span><a href=\"#Вывод\" data-toc-modified-id=\"Вывод-3\"><span class=\"toc-item-num\">3&nbsp;&nbsp;</span>Вывод</a></span></li><li><span><a href=\"#Исследование-задачи\" data-toc-modified-id=\"Исследование-задачи-4\"><span class=\"toc-item-num\">4&nbsp;&nbsp;</span>Исследование задачи</a></span></li><li><span><a href=\"#Вывод\" data-toc-modified-id=\"Вывод-5\"><span class=\"toc-item-num\">5&nbsp;&nbsp;</span>Вывод</a></span></li><li><span><a href=\"#Борьба-с-дисбалансом\" data-toc-modified-id=\"Борьба-с-дисбалансом-6\"><span class=\"toc-item-num\">6&nbsp;&nbsp;</span>Борьба с дисбалансом</a></span></li><li><span><a href=\"#Вывод\" data-toc-modified-id=\"Вывод-7\"><span class=\"toc-item-num\">7&nbsp;&nbsp;</span>Вывод</a></span></li><li><span><a href=\"#Тестирование-модели\" data-toc-modified-id=\"Тестирование-модели-8\"><span class=\"toc-item-num\">8&nbsp;&nbsp;</span>Тестирование модели</a></span></li><li><span><a href=\"#Вывод\" data-toc-modified-id=\"Вывод-9\"><span class=\"toc-item-num\">9&nbsp;&nbsp;</span>Вывод</a></span></li><li><span><a href=\"#Чек-лист-готовности-проекта\" data-toc-modified-id=\"Чек-лист-готовности-проекта-10\"><span class=\"toc-item-num\">10&nbsp;&nbsp;</span>Чек-лист готовности проекта</a></span></li></ul></div>"
   ]
  },
  {
   "cell_type": "markdown",
   "metadata": {},
   "source": [
    "# Отток клиентов"
   ]
  },
  {
   "cell_type": "markdown",
   "metadata": {},
   "source": [
    "Из «Бета-Банка» стали уходить клиенты. Каждый месяц. Немного, но заметно. Банковские маркетологи посчитали: сохранять текущих клиентов дешевле, чем привлекать новых.\n",
    "\n",
    "Нужно спрогнозировать, уйдёт клиент из банка в ближайшее время или нет. Вам предоставлены исторические данные о поведении клиентов и расторжении договоров с банком. \n",
    "\n",
    "Постройте модель с предельно большим значением *F1*-меры. Чтобы сдать проект успешно, нужно довести метрику до 0.59. Проверьте *F1*-меру на тестовой выборке самостоятельно.\n",
    "\n",
    "Дополнительно измеряйте *AUC-ROC*, сравнивайте её значение с *F1*-мерой.\n",
    "\n",
    "Источник данных: [https://www.kaggle.com/barelydedicated/bank-customer-churn-modeling](https://www.kaggle.com/barelydedicated/bank-customer-churn-modeling)"
   ]
  },
  {
   "cell_type": "markdown",
   "metadata": {},
   "source": [
    "## Введение"
   ]
  },
  {
   "cell_type": "markdown",
   "metadata": {},
   "source": [
    "По заданию отдела маркетинга «Бета-Банка» необходимо обучить модель, прогнозирующую отток клиентов. Для проверки качества модели нужно использовать метрики F1-меру и AUC-ROC. F1- мера модели кандидата должна быть не меньше 0.59."
   ]
  },
  {
   "cell_type": "markdown",
   "metadata": {},
   "source": [
    "## Подготовка данных"
   ]
  },
  {
   "cell_type": "code",
   "execution_count": 1,
   "metadata": {},
   "outputs": [],
   "source": [
    "import pandas as pd\n",
    "import numpy as np\n",
    "import matplotlib.pyplot as plt\n",
    "from sklearn.model_selection import train_test_split\n",
    "from sklearn.utils import shuffle\n",
    "from sklearn.preprocessing import StandardScaler\n",
    "\n",
    "from sklearn.tree import DecisionTreeClassifier\n",
    "from sklearn.ensemble import RandomForestClassifier\n",
    "from sklearn.linear_model import LogisticRegression\n",
    "\n",
    "from sklearn.metrics import f1_score, roc_auc_score, roc_curve, precision_score, recall_score\n",
    "\n",
    "pd.set_option('display.max_columns', None)"
   ]
  },
  {
   "cell_type": "code",
   "execution_count": 2,
   "metadata": {},
   "outputs": [],
   "source": [
    "data = pd.read_csv('/datasets/Churn.csv')"
   ]
  },
  {
   "cell_type": "code",
   "execution_count": 3,
   "metadata": {},
   "outputs": [
    {
     "data": {
      "text/html": [
       "<div>\n",
       "<style scoped>\n",
       "    .dataframe tbody tr th:only-of-type {\n",
       "        vertical-align: middle;\n",
       "    }\n",
       "\n",
       "    .dataframe tbody tr th {\n",
       "        vertical-align: top;\n",
       "    }\n",
       "\n",
       "    .dataframe thead th {\n",
       "        text-align: right;\n",
       "    }\n",
       "</style>\n",
       "<table border=\"1\" class=\"dataframe\">\n",
       "  <thead>\n",
       "    <tr style=\"text-align: right;\">\n",
       "      <th></th>\n",
       "      <th>RowNumber</th>\n",
       "      <th>CustomerId</th>\n",
       "      <th>Surname</th>\n",
       "      <th>CreditScore</th>\n",
       "      <th>Geography</th>\n",
       "      <th>Gender</th>\n",
       "      <th>Age</th>\n",
       "      <th>Tenure</th>\n",
       "      <th>Balance</th>\n",
       "      <th>NumOfProducts</th>\n",
       "      <th>HasCrCard</th>\n",
       "      <th>IsActiveMember</th>\n",
       "      <th>EstimatedSalary</th>\n",
       "      <th>Exited</th>\n",
       "    </tr>\n",
       "  </thead>\n",
       "  <tbody>\n",
       "    <tr>\n",
       "      <th>0</th>\n",
       "      <td>1</td>\n",
       "      <td>15634602</td>\n",
       "      <td>Hargrave</td>\n",
       "      <td>619</td>\n",
       "      <td>France</td>\n",
       "      <td>Female</td>\n",
       "      <td>42</td>\n",
       "      <td>2.0</td>\n",
       "      <td>0.00</td>\n",
       "      <td>1</td>\n",
       "      <td>1</td>\n",
       "      <td>1</td>\n",
       "      <td>101348.88</td>\n",
       "      <td>1</td>\n",
       "    </tr>\n",
       "    <tr>\n",
       "      <th>1</th>\n",
       "      <td>2</td>\n",
       "      <td>15647311</td>\n",
       "      <td>Hill</td>\n",
       "      <td>608</td>\n",
       "      <td>Spain</td>\n",
       "      <td>Female</td>\n",
       "      <td>41</td>\n",
       "      <td>1.0</td>\n",
       "      <td>83807.86</td>\n",
       "      <td>1</td>\n",
       "      <td>0</td>\n",
       "      <td>1</td>\n",
       "      <td>112542.58</td>\n",
       "      <td>0</td>\n",
       "    </tr>\n",
       "    <tr>\n",
       "      <th>2</th>\n",
       "      <td>3</td>\n",
       "      <td>15619304</td>\n",
       "      <td>Onio</td>\n",
       "      <td>502</td>\n",
       "      <td>France</td>\n",
       "      <td>Female</td>\n",
       "      <td>42</td>\n",
       "      <td>8.0</td>\n",
       "      <td>159660.80</td>\n",
       "      <td>3</td>\n",
       "      <td>1</td>\n",
       "      <td>0</td>\n",
       "      <td>113931.57</td>\n",
       "      <td>1</td>\n",
       "    </tr>\n",
       "    <tr>\n",
       "      <th>3</th>\n",
       "      <td>4</td>\n",
       "      <td>15701354</td>\n",
       "      <td>Boni</td>\n",
       "      <td>699</td>\n",
       "      <td>France</td>\n",
       "      <td>Female</td>\n",
       "      <td>39</td>\n",
       "      <td>1.0</td>\n",
       "      <td>0.00</td>\n",
       "      <td>2</td>\n",
       "      <td>0</td>\n",
       "      <td>0</td>\n",
       "      <td>93826.63</td>\n",
       "      <td>0</td>\n",
       "    </tr>\n",
       "    <tr>\n",
       "      <th>4</th>\n",
       "      <td>5</td>\n",
       "      <td>15737888</td>\n",
       "      <td>Mitchell</td>\n",
       "      <td>850</td>\n",
       "      <td>Spain</td>\n",
       "      <td>Female</td>\n",
       "      <td>43</td>\n",
       "      <td>2.0</td>\n",
       "      <td>125510.82</td>\n",
       "      <td>1</td>\n",
       "      <td>1</td>\n",
       "      <td>1</td>\n",
       "      <td>79084.10</td>\n",
       "      <td>0</td>\n",
       "    </tr>\n",
       "  </tbody>\n",
       "</table>\n",
       "</div>"
      ],
      "text/plain": [
       "   RowNumber  CustomerId   Surname  CreditScore Geography  Gender  Age  \\\n",
       "0          1    15634602  Hargrave          619    France  Female   42   \n",
       "1          2    15647311      Hill          608     Spain  Female   41   \n",
       "2          3    15619304      Onio          502    France  Female   42   \n",
       "3          4    15701354      Boni          699    France  Female   39   \n",
       "4          5    15737888  Mitchell          850     Spain  Female   43   \n",
       "\n",
       "   Tenure    Balance  NumOfProducts  HasCrCard  IsActiveMember  \\\n",
       "0     2.0       0.00              1          1               1   \n",
       "1     1.0   83807.86              1          0               1   \n",
       "2     8.0  159660.80              3          1               0   \n",
       "3     1.0       0.00              2          0               0   \n",
       "4     2.0  125510.82              1          1               1   \n",
       "\n",
       "   EstimatedSalary  Exited  \n",
       "0        101348.88       1  \n",
       "1        112542.58       0  \n",
       "2        113931.57       1  \n",
       "3         93826.63       0  \n",
       "4         79084.10       0  "
      ]
     },
     "execution_count": 3,
     "metadata": {},
     "output_type": "execute_result"
    }
   ],
   "source": [
    "data.head()"
   ]
  },
  {
   "cell_type": "code",
   "execution_count": 4,
   "metadata": {},
   "outputs": [
    {
     "name": "stdout",
     "output_type": "stream",
     "text": [
      "<class 'pandas.core.frame.DataFrame'>\n",
      "RangeIndex: 10000 entries, 0 to 9999\n",
      "Data columns (total 14 columns):\n",
      " #   Column           Non-Null Count  Dtype  \n",
      "---  ------           --------------  -----  \n",
      " 0   RowNumber        10000 non-null  int64  \n",
      " 1   CustomerId       10000 non-null  int64  \n",
      " 2   Surname          10000 non-null  object \n",
      " 3   CreditScore      10000 non-null  int64  \n",
      " 4   Geography        10000 non-null  object \n",
      " 5   Gender           10000 non-null  object \n",
      " 6   Age              10000 non-null  int64  \n",
      " 7   Tenure           9091 non-null   float64\n",
      " 8   Balance          10000 non-null  float64\n",
      " 9   NumOfProducts    10000 non-null  int64  \n",
      " 10  HasCrCard        10000 non-null  int64  \n",
      " 11  IsActiveMember   10000 non-null  int64  \n",
      " 12  EstimatedSalary  10000 non-null  float64\n",
      " 13  Exited           10000 non-null  int64  \n",
      "dtypes: float64(3), int64(8), object(3)\n",
      "memory usage: 1.1+ MB\n"
     ]
    }
   ],
   "source": [
    "data.info()"
   ]
  },
  {
   "cell_type": "markdown",
   "metadata": {},
   "source": [
    "Обнаружил 909 нулевых значений поля Tenure. Заменил их медианным значением."
   ]
  },
  {
   "cell_type": "code",
   "execution_count": 5,
   "metadata": {},
   "outputs": [
    {
     "name": "stdout",
     "output_type": "stream",
     "text": [
      "909\n"
     ]
    }
   ],
   "source": [
    "#print(len(data.loc[data['CustomerId'].isna()]))\n",
    "#print(len(data.loc[data['Surname'].isna()]))\n",
    "#print(len(data.loc[data['CreditScore'].isna()]))\n",
    "#print(len(data.loc[data['Geography'].isna()]))\n",
    "#print(len(data.loc[data['Gender'].isna()]))\n",
    "#print(len(data.loc[data['Age'].isna()]))\n",
    "print(len(data.loc[data['Tenure'].isna()]))\n",
    "#print(len(data.loc[data['Balance'].isna()]))\n",
    "#print(len(data.loc[data['NumOfProducts'].isna()]))\n",
    "#print(len(data.loc[data['HasCrCard'].isna()]))\n",
    "#print(len(data.loc[data['IsActiveMember'].isna()]))\n",
    "#print(len(data.loc[data['EstimatedSalary'].isna()]))\n",
    "#print(len(data.loc[data['Exited'].isna()]))"
   ]
  },
  {
   "cell_type": "markdown",
   "metadata": {},
   "source": [
    "<div class=\"alert alert-success\">\n",
    "<h2> Комментарий ревьюера ✔️ <a class=\"tocSkip\"> </h2>\n",
    "\n",
    "Можно было так, намного короче\n",
    "    \n",
    "    df.isna().mean()"
   ]
  },
  {
   "cell_type": "code",
   "execution_count": 6,
   "metadata": {},
   "outputs": [],
   "source": [
    "data.loc[data['Tenure'].isna(),'Tenure'] = data['Tenure'].median()"
   ]
  },
  {
   "cell_type": "markdown",
   "metadata": {},
   "source": [
    "<div class=\"alert alert-warning\">\n",
    "<h2> Комментарий ревьюера ⚠️ <a class=\"tocSkip\"> </h2>\n",
    "\n",
    "Заполнить пропуски - решение правильное, но распределение по `Tenure` ровномерное, если сейчас заменить почти 900 пропусков (9% данных) средним или медианой, то мы значительно исказим распределение. Я бы лучше предпочел заполнить пропуски случайными значениями в интервале от минимального до максимального значения по данному столбцу. Так мы не нарушим распределение. Как еще можно было их обработать:\n",
    "    \n",
    "- Можно заполнить нулями, так мы предполагаем, что это новые клиенты.\n",
    "\n",
    "- Так как значений в этом признаке ограниченное количество, можно сделать его категориальным признаком. Пропуски можно считать как за отдельную категорию (заполнить значением -1). Затем заменить тип данных `Tenure` на `object` и применить технику [OHE](https://scikit-learn.org/stable/modules/generated/sklearn.preprocessing.OneHotEncoder.html)."
   ]
  },
  {
   "cell_type": "markdown",
   "metadata": {},
   "source": [
    "Дибликатов не обнаружено."
   ]
  },
  {
   "cell_type": "code",
   "execution_count": 7,
   "metadata": {},
   "outputs": [
    {
     "name": "stdout",
     "output_type": "stream",
     "text": [
      "0\n"
     ]
    }
   ],
   "source": [
    "print(data.duplicated().sum())"
   ]
  },
  {
   "cell_type": "markdown",
   "metadata": {},
   "source": [
    "Удалил поля RowNumber и CustomerId, т.к. они не несут никакой полезной информации для нашей модели."
   ]
  },
  {
   "cell_type": "code",
   "execution_count": 8,
   "metadata": {},
   "outputs": [],
   "source": [
    "data.drop(\"RowNumber\", axis=1, inplace=True)\n",
    "data.drop(\"CustomerId\", axis=1, inplace=True)"
   ]
  },
  {
   "cell_type": "markdown",
   "metadata": {},
   "source": [
    "<div class=\"alert alert-danger\">\n",
    "<h2> Комментарий ревьюера ❌ <a class=\"tocSkip\"> </h2>\n",
    "\n",
    "Согласен, что  неинформативные столбцы нам не нужны, а что насчет Surname? Нужен ли нам этот столбец?"
   ]
  },
  {
   "cell_type": "markdown",
   "metadata": {},
   "source": [
    "Предотвращаю попадание в дамми-ловушку при помощи метода get_dummies()."
   ]
  },
  {
   "cell_type": "code",
   "execution_count": 9,
   "metadata": {},
   "outputs": [],
   "source": [
    "data_ohe = pd.get_dummies(data, drop_first=True)"
   ]
  },
  {
   "cell_type": "markdown",
   "metadata": {},
   "source": [
    "<div class=\"alert alert-success\">\n",
    "<h2> Комментарий ревьюера ✔️ <a class=\"tocSkip\"> </h2>\n",
    "\n",
    "В данном случае это наиболее подходящий способ закодировать категориальные колонки 👍 И отдельный плюс за `drop_first`"
   ]
  },
  {
   "cell_type": "code",
   "execution_count": 10,
   "metadata": {},
   "outputs": [],
   "source": [
    "target = data_ohe['Exited']\n",
    "features = data_ohe.drop(['Exited'] , axis=1)"
   ]
  },
  {
   "cell_type": "markdown",
   "metadata": {},
   "source": [
    "Разобью исходные данные на обучающую, валидационную и тестовую выборки в соотношении 3:1:1."
   ]
  },
  {
   "cell_type": "code",
   "execution_count": 11,
   "metadata": {},
   "outputs": [],
   "source": [
    "features_main, features_test, target_main, target_test = train_test_split(features, target, test_size=0.20, random_state=12345, stratify=target)"
   ]
  },
  {
   "cell_type": "code",
   "execution_count": 12,
   "metadata": {},
   "outputs": [
    {
     "name": "stdout",
     "output_type": "stream",
     "text": [
      "(2000, 2942)\n",
      "(2000,)\n"
     ]
    }
   ],
   "source": [
    "print(features_test.shape)\n",
    "print(target_test.shape)"
   ]
  },
  {
   "cell_type": "code",
   "execution_count": 13,
   "metadata": {},
   "outputs": [],
   "source": [
    "features_train, features_valid, target_train, target_valid = train_test_split(features_main, target_main, test_size=0.25, random_state=12345, stratify=target_main)"
   ]
  },
  {
   "cell_type": "markdown",
   "metadata": {},
   "source": [
    "<div class=\"alert alert-success\">\n",
    "<h2> Комментарий ревьюера ✔️ <a class=\"tocSkip\"> </h2>\n",
    "\n",
    "Круто, что ты фиксируешь `random_state`. Кстати, его можно задать один раз в начале проекта, например, используя любимый нами [numpy](https://pyprog.pro/random_sampling_functions/seed.html?)"
   ]
  },
  {
   "cell_type": "code",
   "execution_count": 14,
   "metadata": {},
   "outputs": [
    {
     "name": "stdout",
     "output_type": "stream",
     "text": [
      "(2000, 2942)\n",
      "(2000,)\n"
     ]
    }
   ],
   "source": [
    "print(features_valid.shape)\n",
    "print(target_valid.shape)"
   ]
  },
  {
   "cell_type": "code",
   "execution_count": 15,
   "metadata": {},
   "outputs": [
    {
     "name": "stdout",
     "output_type": "stream",
     "text": [
      "(6000, 2942)\n",
      "(6000,)\n"
     ]
    }
   ],
   "source": [
    "print(features_train.shape)\n",
    "print(target_train.shape)"
   ]
  },
  {
   "cell_type": "markdown",
   "metadata": {},
   "source": [
    "Выделяю числовые признаки и масштабирую их с помощью функции Scaler."
   ]
  },
  {
   "cell_type": "code",
   "execution_count": 16,
   "metadata": {},
   "outputs": [
    {
     "name": "stderr",
     "output_type": "stream",
     "text": [
      "/tmp/ipykernel_207/866273338.py:4: SettingWithCopyWarning: \n",
      "A value is trying to be set on a copy of a slice from a DataFrame.\n",
      "Try using .loc[row_indexer,col_indexer] = value instead\n",
      "\n",
      "See the caveats in the documentation: https://pandas.pydata.org/pandas-docs/stable/user_guide/indexing.html#returning-a-view-versus-a-copy\n",
      "  features_train[numeric] = scaler.transform(features_train[numeric])\n",
      "/opt/conda/lib/python3.9/site-packages/pandas/core/indexing.py:1738: SettingWithCopyWarning: \n",
      "A value is trying to be set on a copy of a slice from a DataFrame.\n",
      "Try using .loc[row_indexer,col_indexer] = value instead\n",
      "\n",
      "See the caveats in the documentation: https://pandas.pydata.org/pandas-docs/stable/user_guide/indexing.html#returning-a-view-versus-a-copy\n",
      "  self._setitem_single_column(loc, value[:, i].tolist(), pi)\n",
      "/tmp/ipykernel_207/866273338.py:5: SettingWithCopyWarning: \n",
      "A value is trying to be set on a copy of a slice from a DataFrame.\n",
      "Try using .loc[row_indexer,col_indexer] = value instead\n",
      "\n",
      "See the caveats in the documentation: https://pandas.pydata.org/pandas-docs/stable/user_guide/indexing.html#returning-a-view-versus-a-copy\n",
      "  features_valid[numeric] = scaler.transform(features_valid[numeric])\n",
      "/opt/conda/lib/python3.9/site-packages/pandas/core/indexing.py:1738: SettingWithCopyWarning: \n",
      "A value is trying to be set on a copy of a slice from a DataFrame.\n",
      "Try using .loc[row_indexer,col_indexer] = value instead\n",
      "\n",
      "See the caveats in the documentation: https://pandas.pydata.org/pandas-docs/stable/user_guide/indexing.html#returning-a-view-versus-a-copy\n",
      "  self._setitem_single_column(loc, value[:, i].tolist(), pi)\n"
     ]
    }
   ],
   "source": [
    "numeric = ['CreditScore', 'Age', 'Tenure', 'Balance', 'NumOfProducts', 'EstimatedSalary']\n",
    "scaler = StandardScaler()\n",
    "scaler.fit(features_train[numeric])\n",
    "features_train[numeric] = scaler.transform(features_train[numeric])\n",
    "features_valid[numeric] = scaler.transform(features_valid[numeric])"
   ]
  },
  {
   "cell_type": "markdown",
   "metadata": {},
   "source": [
    "<div class=\"alert alert-success\">\n",
    "<h2> Комментарий ревьюера ✔️ <a class=\"tocSkip\"> </h2>\n",
    "\n",
    "Стандартизация выполнена корректно, молодец! Кстати, хорошо бы проверить метрики без нее, возможно, результат будет лучше, а возможно, и нет. Дело в том, что алгоритмы основанные на лесах, на самом деле, не нуждаются в нормализации или стандартизации, в отличии от линейных моделей"
   ]
  },
  {
   "cell_type": "markdown",
   "metadata": {},
   "source": [
    "Проверю сбалансированность классов в таргете."
   ]
  },
  {
   "cell_type": "code",
   "execution_count": 17,
   "metadata": {},
   "outputs": [
    {
     "data": {
      "text/plain": [
       "7963"
      ]
     },
     "execution_count": 17,
     "metadata": {},
     "output_type": "execute_result"
    }
   ],
   "source": [
    "(target[target == 0]).size"
   ]
  },
  {
   "cell_type": "code",
   "execution_count": 18,
   "metadata": {},
   "outputs": [
    {
     "data": {
      "text/plain": [
       "2037"
      ]
     },
     "execution_count": 18,
     "metadata": {},
     "output_type": "execute_result"
    }
   ],
   "source": [
    "(target[target == 1]).size"
   ]
  },
  {
   "cell_type": "markdown",
   "metadata": {},
   "source": [
    "<div class=\"alert alert-warning\">\n",
    "<h2> Комментарий ревьюера ⚠️ <a class=\"tocSkip\"> </h2>\n",
    "\n",
    "Здесь также можно было сократить решение"
   ]
  },
  {
   "cell_type": "code",
   "execution_count": 45,
   "metadata": {},
   "outputs": [
    {
     "data": {
      "text/plain": [
       "0    0.7963\n",
       "1    0.2037\n",
       "Name: Exited, dtype: float64"
      ]
     },
     "execution_count": 45,
     "metadata": {},
     "output_type": "execute_result"
    }
   ],
   "source": [
    "target.value_counts(normalize=True)"
   ]
  },
  {
   "cell_type": "markdown",
   "metadata": {},
   "source": [
    "## Вывод"
   ]
  },
  {
   "cell_type": "markdown",
   "metadata": {},
   "source": [
    "Проверил данные на пропуски и дубликаты. Удалил поля, не имеющие смысла для обучения. Провёл профилактику попадания в дамми-ловушку. Разобил исходные данные на обучающую, валидационную и тестовую выборки. Разбил данные на обучающие и целевые признаки. Выделил и промасштабировал числовые признаки. Проверил сбалансированность классов в таргете.\n",
    "Классы в таргете не сбалансированы. Нулей 79.63%, единиц 20.37%. Т.е. примерно на 8 нулей (клиент остался) приходится 2 единицы (клиент ушёл)."
   ]
  },
  {
   "cell_type": "markdown",
   "metadata": {},
   "source": [
    "## Исследование задачи"
   ]
  },
  {
   "cell_type": "markdown",
   "metadata": {},
   "source": [
    "Исследую модели на несбалансированных данных."
   ]
  },
  {
   "cell_type": "markdown",
   "metadata": {},
   "source": [
    "Вначале исследую модель решающего дерева."
   ]
  },
  {
   "cell_type": "code",
   "execution_count": 19,
   "metadata": {},
   "outputs": [
    {
     "name": "stdout",
     "output_type": "stream",
     "text": [
      "max_depth = 1\n",
      "  F1 = 0.0\n",
      "  AUC-ROC = 0.7020417952621343\n",
      "max_depth = 2\n",
      "  F1 = 0.514792899408284\n",
      "  AUC-ROC = 0.7397559346711888\n",
      "max_depth = 3\n",
      "  F1 = 0.375\n",
      "  AUC-ROC = 0.8041878550353126\n",
      "max_depth = 4\n",
      "  F1 = 0.5168539325842697\n",
      "  AUC-ROC = 0.8272193611176661\n",
      "max_depth = 5\n",
      "  F1 = 0.46315789473684216\n",
      "  AUC-ROC = 0.8356947085760646\n",
      "max_depth = 6\n",
      "  F1 = 0.5382165605095541\n",
      "  AUC-ROC = 0.8310521615606361\n",
      "max_depth = 7\n",
      "  F1 = 0.546583850931677\n",
      "  AUC-ROC = 0.8283522351318962\n",
      "max_depth = 8\n",
      "  F1 = 0.586552217453505\n",
      "  AUC-ROC = 0.8149991285584507\n",
      "max_depth = 9\n",
      "  F1 = 0.5923836389280677\n",
      "  AUC-ROC = 0.8017856068703527\n",
      "max_depth = 10\n",
      "  F1 = 0.5583456425406204\n",
      "  AUC-ROC = 0.7868708461928802\n",
      "max_depth = 11\n",
      "  F1 = 0.5698005698005698\n",
      "  AUC-ROC = 0.7544262290025002\n",
      "max_depth = 12\n",
      "  F1 = 0.5658263305322129\n",
      "  AUC-ROC = 0.7443846003168038\n",
      "max_depth = 13\n",
      "  F1 = 0.5542857142857144\n",
      "  AUC-ROC = 0.7338201067014626\n",
      "max_depth = 14\n",
      "  F1 = 0.5619834710743801\n",
      "  AUC-ROC = 0.7151635456720202\n",
      "max_depth = 15\n",
      "  F1 = 0.5516304347826088\n",
      "  AUC-ROC = 0.693113760910371\n"
     ]
    }
   ],
   "source": [
    "for depth in range(1, 16, 1):\n",
    "    model = DecisionTreeClassifier(random_state=12345, max_depth=depth)\n",
    "    model.fit(features_train, target_train)\n",
    "    predictions_valid = model.predict(features_valid)\n",
    "    probabilities_valid = model.predict_proba(features_valid)\n",
    "    probabilities_one_valid = probabilities_valid[:, 1]\n",
    "    f1 = f1_score(target_valid, predictions_valid)\n",
    "    auc_roc = roc_auc_score(target_valid, probabilities_one_valid)\n",
    "    print(\"max_depth =\", depth)\n",
    "    print('  F1 =', f1)\n",
    "    print('  AUC-ROC =', auc_roc)"
   ]
  },
  {
   "cell_type": "code",
   "execution_count": 20,
   "metadata": {},
   "outputs": [],
   "source": [
    "model = DecisionTreeClassifier(random_state=12345, max_depth=9)\n",
    "model.fit(features_train, target_train)\n",
    "probabilities_valid = model.predict_proba(features_valid)\n",
    "probabilities_one_valid = probabilities_valid[:, 1]"
   ]
  },
  {
   "cell_type": "code",
   "execution_count": 21,
   "metadata": {},
   "outputs": [
    {
     "data": {
      "image/png": "[encoded data removed]",
      "text/plain": [
       "<Figure size 432x288 with 1 Axes>"
      ]
     },
     "metadata": {
      "needs_background": "light"
     },
     "output_type": "display_data"
    }
   ],
   "source": [
    "fpr, tpr, thresholds = roc_curve(target_valid, probabilities_one_valid)\n",
    "\n",
    "plt.figure()\n",
    "\n",
    "plt.plot(fpr, tpr)\n",
    "plt.xlim([0.0, 1.0])\n",
    "plt.ylim([0.0, 1.0])\n",
    "plt.xlabel('False Positive Rate')\n",
    "plt.ylabel('True Positive Rate')\n",
    "plt.title('ROC-кривая')\n",
    "plt.show() "
   ]
  },
  {
   "cell_type": "markdown",
   "metadata": {},
   "source": [
    "<div class=\"alert alert-success\">\n",
    "<h2> Комментарий ревьюера ✔️ <a class=\"tocSkip\"> </h2>\n",
    "\n",
    "Мне для счастья не хватает сетки"
   ]
  },
  {
   "cell_type": "markdown",
   "metadata": {},
   "source": [
    "Модель решающего дерева показала наилучший результат  F1 = 0.5923836389280677 AUC-ROC = 0.8017856068703527 при max_depth=9"
   ]
  },
  {
   "cell_type": "markdown",
   "metadata": {},
   "source": [
    "Исследую модель случайного леса."
   ]
  },
  {
   "cell_type": "code",
   "execution_count": 22,
   "metadata": {},
   "outputs": [
    {
     "name": "stdout",
     "output_type": "stream",
     "text": [
      "est = 1\n",
      "  F1 = 0.43680981595092033\n",
      "  AUC-ROC = 0.6464823837705194\n",
      "est = 2\n",
      "  F1 = 0.30127041742286753\n",
      "  AUC-ROC = 0.7108456684727871\n",
      "est = 3\n",
      "  F1 = 0.43113772455089816\n",
      "  AUC-ROC = 0.7360727445473209\n",
      "est = 4\n",
      "  F1 = 0.35650623885918\n",
      "  AUC-ROC = 0.7619283381995247\n",
      "est = 5\n",
      "  F1 = 0.4517133956386293\n",
      "  AUC-ROC = 0.775208181987843\n",
      "est = 6\n",
      "  F1 = 0.40773286467486825\n",
      "  AUC-ROC = 0.7845233523199625\n",
      "est = 7\n",
      "  F1 = 0.4807692307692308\n",
      "  AUC-ROC = 0.7969525766135935\n",
      "est = 8\n",
      "  F1 = 0.4275618374558304\n",
      "  AUC-ROC = 0.7975402212690349\n",
      "est = 9\n",
      "  F1 = 0.49754500818330605\n",
      "  AUC-ROC = 0.8041600922956855\n",
      "est = 10\n",
      "  F1 = 0.4663212435233161\n",
      "  AUC-ROC = 0.804225643208694\n",
      "est = 11\n",
      "  F1 = 0.4999999999999999\n",
      "  AUC-ROC = 0.8070019171714087\n",
      "est = 12\n",
      "  F1 = 0.4716006884681584\n",
      "  AUC-ROC = 0.8126308126308126\n",
      "est = 13\n",
      "  F1 = 0.5155993431855501\n",
      "  AUC-ROC = 0.8129439146388298\n",
      "est = 14\n",
      "  F1 = 0.48109965635738833\n",
      "  AUC-ROC = 0.8148749674173403\n",
      "est = 15\n",
      "  F1 = 0.5215946843853821\n",
      "  AUC-ROC = 0.8159276379615362\n",
      "est = 16\n",
      "  F1 = 0.47735191637630664\n",
      "  AUC-ROC = 0.8162661891475451\n",
      "est = 17\n",
      "  F1 = 0.494949494949495\n",
      "  AUC-ROC = 0.8157371547202056\n",
      "est = 18\n",
      "  F1 = 0.4693520140105078\n",
      "  AUC-ROC = 0.8163733841699944\n",
      "est = 19\n",
      "  F1 = 0.5000000000000001\n",
      "  AUC-ROC = 0.8191519716943445\n",
      "est = 20\n",
      "  F1 = 0.47120418848167533\n",
      "  AUC-ROC = 0.8217848048356522\n"
     ]
    }
   ],
   "source": [
    "for est in range(1, 21):\n",
    "    model = RandomForestClassifier(random_state=12345, n_estimators=est)\n",
    "    model.fit(features_train, target_train)\n",
    "    predictions_valid = model.predict(features_valid)\n",
    "    probabilities_valid = model.predict_proba(features_valid)\n",
    "    probabilities_one_valid = probabilities_valid[:, 1]\n",
    "    f1 = f1_score(target_valid, predictions_valid)\n",
    "    auc_roc = roc_auc_score(target_valid, probabilities_one_valid)\n",
    "    print(\"est =\", est)\n",
    "    print('  F1 =', f1)\n",
    "    print('  AUC-ROC =', auc_roc)"
   ]
  },
  {
   "cell_type": "markdown",
   "metadata": {},
   "source": [
    "<div class=\"alert alert-success\">\n",
    "<h2> Комментарий ревьюера ✔️ <a class=\"tocSkip\"> </h2>\n",
    "\n",
    "Чтобы добиться лучшего результата, можно перебирать несколько параметров, для случайного леса, например, можно еще поварьировать кол-во деревьев в ансамбле `max_depth`, или `min_samples_leaf`"
   ]
  },
  {
   "cell_type": "code",
   "execution_count": 23,
   "metadata": {},
   "outputs": [],
   "source": [
    "model = RandomForestClassifier(random_state=12345, n_estimators=15)\n",
    "model.fit(features_train, target_train) \n",
    "    \n",
    "probabilities_valid = model.predict_proba(features_valid)\n",
    "probabilities_one_valid = probabilities_valid[:, 1]"
   ]
  },
  {
   "cell_type": "code",
   "execution_count": 24,
   "metadata": {},
   "outputs": [
    {
     "data": {
      "image/png": "[encoded data removed]",
      "text/plain": [
       "<Figure size 432x288 with 1 Axes>"
      ]
     },
     "metadata": {
      "needs_background": "light"
     },
     "output_type": "display_data"
    }
   ],
   "source": [
    "fpr, tpr, thresholds = roc_curve(target_valid, probabilities_one_valid)\n",
    "\n",
    "plt.figure()\n",
    "\n",
    "plt.plot(fpr, tpr)\n",
    "plt.xlim([0.0, 1.0])\n",
    "plt.ylim([0.0, 1.0])\n",
    "plt.xlabel('False Positive Rate')\n",
    "plt.ylabel('True Positive Rate')\n",
    "plt.title('ROC-кривая')\n",
    "plt.show() "
   ]
  },
  {
   "cell_type": "markdown",
   "metadata": {},
   "source": [
    "Модель случайного леса показала наилучший результат  F1 = 0.5215946843853821 AUC-ROC = 0.8159276379615362 при n_estimators=15"
   ]
  },
  {
   "cell_type": "markdown",
   "metadata": {},
   "source": [
    "Исследую модель логистической регрессии."
   ]
  },
  {
   "cell_type": "code",
   "execution_count": 25,
   "metadata": {},
   "outputs": [
    {
     "name": "stdout",
     "output_type": "stream",
     "text": [
      "itr = 500\n",
      "  F1 = 0.34050179211469533\n",
      "  AUC-ROC = 0.7699301767098378\n",
      "itr = 600\n",
      "  F1 = 0.34050179211469533\n",
      "  AUC-ROC = 0.7699301767098378\n",
      "itr = 700\n",
      "  F1 = 0.34050179211469533\n",
      "  AUC-ROC = 0.7699301767098378\n",
      "itr = 800\n",
      "  F1 = 0.34050179211469533\n",
      "  AUC-ROC = 0.7699301767098378\n",
      "itr = 900\n",
      "  F1 = 0.34050179211469533\n",
      "  AUC-ROC = 0.7699301767098378\n"
     ]
    }
   ],
   "source": [
    "for itr in range(500, 1000, 100):\n",
    "    model = LogisticRegression(random_state=12345, solver='liblinear', max_iter=itr)\n",
    "    model.fit(features_train, target_train)\n",
    "    predictions_valid = model.predict(features_valid)\n",
    "    probabilities_valid = model.predict_proba(features_valid)\n",
    "    probabilities_one_valid = probabilities_valid[:, 1]\n",
    "    f1 = f1_score(target_valid, predictions_valid)\n",
    "    auc_roc = roc_auc_score(target_valid, probabilities_one_valid)\n",
    "    print(\"itr =\", itr)\n",
    "    print('  F1 =', f1)\n",
    "    print('  AUC-ROC =', auc_roc)"
   ]
  },
  {
   "cell_type": "code",
   "execution_count": 26,
   "metadata": {},
   "outputs": [],
   "source": [
    "model = LogisticRegression(random_state=12345, solver='liblinear', max_iter=500)\n",
    "model.fit(features_train, target_train)\n",
    "\n",
    "probabilities_valid = model.predict_proba(features_valid)\n",
    "probabilities_one_valid = probabilities_valid[:, 1]"
   ]
  },
  {
   "cell_type": "markdown",
   "metadata": {},
   "source": [
    "<div class=\"alert alert-success\"> \n",
    "<h2> Комментарий ревьюера ✔️ <a class=\"tocSkip\"> </h2>\n",
    "\n",
    "Круто, что ты и здесь решила подобрать гиперпараметры. Хотя по мне, `solver` или `penalty` более важные параметры, я бы их перебирал."
   ]
  },
  {
   "cell_type": "code",
   "execution_count": 27,
   "metadata": {},
   "outputs": [
    {
     "data": {
      "image/png": "[encoded data removed]",
      "text/plain": [
       "<Figure size 432x288 with 1 Axes>"
      ]
     },
     "metadata": {
      "needs_background": "light"
     },
     "output_type": "display_data"
    }
   ],
   "source": [
    "fpr, tpr, thresholds = roc_curve(target_valid, probabilities_one_valid)\n",
    "\n",
    "plt.figure()\n",
    "\n",
    "plt.plot(fpr, tpr)\n",
    "plt.xlim([0.0, 1.0])\n",
    "plt.ylim([0.0, 1.0])\n",
    "plt.xlabel('False Positive Rate')\n",
    "plt.ylabel('True Positive Rate')\n",
    "plt.title('ROC-кривая')\n",
    "plt.show() \n"
   ]
  },
  {
   "cell_type": "markdown",
   "metadata": {},
   "source": [
    "Модель логистической регрессии показала наилучший результат F1 = 0.34050179211469533 AUC-ROC = 0.7699301767098378 при max_iter=500"
   ]
  },
  {
   "cell_type": "markdown",
   "metadata": {},
   "source": [
    "## Вывод"
   ]
  },
  {
   "cell_type": "markdown",
   "metadata": {},
   "source": [
    "На несбалансированных данных наилучший результат достигнут моделью решающего дерева  F1 = 0.5923836389280677 AUC-ROC = 0.8017856068703527 при max_depth=9"
   ]
  },
  {
   "cell_type": "markdown",
   "metadata": {},
   "source": [
    "## Борьба с дисбалансом"
   ]
  },
  {
   "cell_type": "markdown",
   "metadata": {},
   "source": [
    "Исходные данные несбалансированы примерно 8:2. Т.е. на каждые 8 случаев, когда клиент остался, приходится 2 случая, когда клиент ушёл."
   ]
  },
  {
   "cell_type": "code",
   "execution_count": 28,
   "metadata": {},
   "outputs": [
    {
     "name": "stdout",
     "output_type": "stream",
     "text": [
      "(4777, 2942)\n",
      "(1223, 2942)\n",
      "(4777,)\n",
      "(1223,)\n"
     ]
    }
   ],
   "source": [
    "features_zeros = features_train[target_train == 0] \n",
    "features_ones = features_train[target_train == 1] \n",
    "target_zeros = target_train[target_train == 0] \n",
    "target_ones = target_train[target_train == 1] \n",
    "\n",
    "print(features_zeros.shape)\n",
    "print(features_ones.shape)\n",
    "print(target_zeros.shape)\n",
    "print(target_ones.shape)"
   ]
  },
  {
   "cell_type": "markdown",
   "metadata": {},
   "source": [
    "Увеличил количество единиц при помощи техники upsampling."
   ]
  },
  {
   "cell_type": "code",
   "execution_count": 29,
   "metadata": {},
   "outputs": [
    {
     "name": "stdout",
     "output_type": "stream",
     "text": [
      "(4777, 2942)\n",
      "(2446, 2942)\n",
      "(4777,)\n",
      "(2446,)\n"
     ]
    }
   ],
   "source": [
    "def upsample(features, target, repeat):\n",
    "    features_zeros = features[target == 0]\n",
    "    features_ones = features[target == 1]\n",
    "    target_zeros = target[target == 0]\n",
    "    target_ones = target[target == 1]\n",
    "\n",
    "    features_upsampled = pd.concat([features_zeros] + [features_ones] * repeat)\n",
    "    target_upsampled = pd.concat([target_zeros] + [target_ones] * repeat)\n",
    "    \n",
    "    features_upsampled, target_upsampled = shuffle(features_upsampled, target_upsampled, random_state=12345)\n",
    "    \n",
    "    return features_upsampled, target_upsampled \n",
    "\n",
    "features_upsampled, target_upsampled = upsample(features_train, target_train, 2)\n",
    "\n",
    "features_zeros = features_upsampled[target_upsampled == 0] \n",
    "features_ones = features_upsampled[target_upsampled == 1] \n",
    "target_zeros = target_upsampled[target_upsampled == 0] \n",
    "target_ones = target_upsampled[target_upsampled == 1] \n",
    "\n",
    "print(features_zeros.shape)\n",
    "print(features_ones.shape)\n",
    "print(target_zeros.shape)\n",
    "print(target_ones.shape)"
   ]
  },
  {
   "cell_type": "markdown",
   "metadata": {},
   "source": [
    "<div class=\"alert alert-warning\">\n",
    "<h2> Комментарий ревьюера ⚠️ <a class=\"tocSkip\"> </h2>\n",
    "\n",
    "Может стоит взять repeat чуть больше? Дисбаланс как-будто все еще присутствует"
   ]
  },
  {
   "cell_type": "markdown",
   "metadata": {},
   "source": [
    "Уменьшил количество нолей при помощи техники downsampling"
   ]
  },
  {
   "cell_type": "code",
   "execution_count": 30,
   "metadata": {},
   "outputs": [
    {
     "name": "stdout",
     "output_type": "stream",
     "text": [
      "(2446, 2942)\n",
      "(2446, 2942)\n",
      "(2446,)\n",
      "(2446,)\n"
     ]
    }
   ],
   "source": [
    "def downsample(features, target, fraction):\n",
    "    features_zeros = features[target == 0]\n",
    "    features_ones = features[target == 1]\n",
    "    target_zeros = target[target == 0]\n",
    "    target_ones = target[target == 1]\n",
    "\n",
    "    features_downsampled = pd.concat(\n",
    "        [features_zeros.sample(frac=fraction, random_state=12345)] + [features_ones])\n",
    "    target_downsampled = pd.concat(\n",
    "        [target_zeros.sample(frac=fraction, random_state=12345)] + [target_ones])\n",
    "    features_downsampled, target_downsampled = shuffle(features_downsampled, target_downsampled, random_state=12345)\n",
    "    \n",
    "    return features_downsampled, target_downsampled\n",
    "\n",
    "features_balanced, target_balanced = downsample(features_upsampled, target_upsampled, 0.512)\n",
    "\n",
    "features_zeros = features_balanced[target_balanced == 0] \n",
    "features_ones = features_balanced[target_balanced == 1] \n",
    "target_zeros = target_balanced[target_balanced == 0] \n",
    "target_ones = target_balanced[target_balanced == 1] \n",
    "\n",
    "print(features_zeros.shape)\n",
    "print(features_ones.shape)\n",
    "print(target_zeros.shape)\n",
    "print(target_ones.shape)"
   ]
  },
  {
   "cell_type": "markdown",
   "metadata": {},
   "source": [
    "<div class=\"alert alert-success\">\n",
    "<h2> Комментарий ревьюера ✔️ <a class=\"tocSkip\"> </h2>\n",
    "\n",
    "А вот здесь все отлично"
   ]
  },
  {
   "cell_type": "markdown",
   "metadata": {},
   "source": [
    "Проверяю модель решающего дерева на сбалансированных данных."
   ]
  },
  {
   "cell_type": "code",
   "execution_count": 31,
   "metadata": {},
   "outputs": [
    {
     "name": "stdout",
     "output_type": "stream",
     "text": [
      "max_depth = 1\n",
      "  F1 = 0.4804381846635367\n",
      "  AUC-ROC = 0.7001253950406494\n",
      "max_depth = 2\n",
      "  F1 = 0.4860681114551083\n",
      "  AUC-ROC = 0.7406111812891475\n",
      "max_depth = 3\n",
      "  F1 = 0.5159817351598174\n",
      "  AUC-ROC = 0.7942888959838112\n",
      "max_depth = 4\n",
      "  F1 = 0.5220883534136547\n",
      "  AUC-ROC = 0.8137351527182035\n",
      "max_depth = 5\n",
      "  F1 = 0.5546942291128337\n",
      "  AUC-ROC = 0.832865993882943\n",
      "max_depth = 6\n",
      "  F1 = 0.5569620253164557\n",
      "  AUC-ROC = 0.8287509389204304\n",
      "max_depth = 7\n",
      "  F1 = 0.5603112840466926\n",
      "  AUC-ROC = 0.8109920398055991\n",
      "max_depth = 8\n",
      "  F1 = 0.5894519131334023\n",
      "  AUC-ROC = 0.8084093338330627\n",
      "max_depth = 9\n",
      "  F1 = 0.561822125813449\n",
      "  AUC-ROC = 0.777719167549676\n",
      "max_depth = 10\n",
      "  F1 = 0.5504201680672269\n",
      "  AUC-ROC = 0.7518843959521926\n",
      "max_depth = 11\n",
      "  F1 = 0.5535524920466596\n",
      "  AUC-ROC = 0.7365238890662619\n",
      "max_depth = 12\n",
      "  F1 = 0.5501066098081023\n",
      "  AUC-ROC = 0.6971948836355616\n",
      "max_depth = 13\n",
      "  F1 = 0.5417989417989417\n",
      "  AUC-ROC = 0.6847548627209644\n",
      "max_depth = 14\n",
      "  F1 = 0.5441020191285866\n",
      "  AUC-ROC = 0.6800344257971377\n",
      "max_depth = 15\n",
      "  F1 = 0.5387840670859539\n",
      "  AUC-ROC = 0.6797961289486714\n"
     ]
    }
   ],
   "source": [
    "for depth in range(1, 16, 1):\n",
    "    model = DecisionTreeClassifier(random_state=12345, max_depth=depth)\n",
    "    model.fit(features_balanced, target_balanced)\n",
    "    predictions_valid = model.predict(features_valid)\n",
    "    probabilities_valid = model.predict_proba(features_valid)\n",
    "    probabilities_one_valid = probabilities_valid[:, 1]\n",
    "    f1 = f1_score(target_valid, predictions_valid)\n",
    "    auc_roc = roc_auc_score(target_valid, probabilities_one_valid)\n",
    "    print(\"max_depth =\", depth)\n",
    "    print('  F1 =', f1)\n",
    "    print('  AUC-ROC =', auc_roc)"
   ]
  },
  {
   "cell_type": "code",
   "execution_count": 32,
   "metadata": {},
   "outputs": [],
   "source": [
    "model = DecisionTreeClassifier(random_state=12345, max_depth=8)\n",
    "model.fit(features_balanced, target_balanced)\n",
    "\n",
    "probabilities_valid = model.predict_proba(features_valid)\n",
    "probabilities_one_valid = probabilities_valid[:, 1]\n"
   ]
  },
  {
   "cell_type": "code",
   "execution_count": 33,
   "metadata": {},
   "outputs": [
    {
     "data": {
      "image/png": "[encoded data removed]",
      "text/plain": [
       "<Figure size 432x288 with 1 Axes>"
      ]
     },
     "metadata": {
      "needs_background": "light"
     },
     "output_type": "display_data"
    }
   ],
   "source": [
    "fpr, tpr, thresholds = roc_curve(target_valid, probabilities_one_valid)\n",
    "\n",
    "plt.figure()\n",
    "\n",
    "plt.plot(fpr, tpr)\n",
    "plt.xlim([0.0, 1.0])\n",
    "plt.ylim([0.0, 1.0])\n",
    "plt.xlabel('False Positive Rate')\n",
    "plt.ylabel('True Positive Rate')\n",
    "plt.title('ROC-кривая')\n",
    "plt.show() "
   ]
  },
  {
   "cell_type": "markdown",
   "metadata": {},
   "source": [
    "Модель решающего дерева показала наилучший результат  F1 = 0.5894519131334023 AUC-ROC = 0.8084093338330627 при max_depth=8"
   ]
  },
  {
   "cell_type": "markdown",
   "metadata": {},
   "source": [
    "Проверяю модель случайного леса на сбалансированных данных."
   ]
  },
  {
   "cell_type": "code",
   "execution_count": 34,
   "metadata": {},
   "outputs": [
    {
     "name": "stdout",
     "output_type": "stream",
     "text": [
      "est = 1\n",
      "  F1 = 0.4410354745925216\n",
      "  AUC-ROC = 0.6551227652922569\n",
      "est = 2\n",
      "  F1 = 0.4592391304347826\n",
      "  AUC-ROC = 0.7231252824473163\n",
      "est = 3\n",
      "  F1 = 0.5105953582240161\n",
      "  AUC-ROC = 0.7461344241005259\n",
      "est = 4\n",
      "  F1 = 0.5127551020408163\n",
      "  AUC-ROC = 0.765999435490961\n",
      "est = 5\n",
      "  F1 = 0.5589798087141339\n",
      "  AUC-ROC = 0.7875595163730758\n",
      "est = 6\n",
      "  F1 = 0.5613608748481166\n",
      "  AUC-ROC = 0.7924796907847755\n",
      "est = 7\n",
      "  F1 = 0.5601703940362087\n",
      "  AUC-ROC = 0.798025298025298\n",
      "est = 8\n",
      "  F1 = 0.5622775800711745\n",
      "  AUC-ROC = 0.8029184808845826\n",
      "est = 9\n",
      "  F1 = 0.5623632385120351\n",
      "  AUC-ROC = 0.805753365075399\n",
      "est = 10\n",
      "  F1 = 0.5775656324582339\n",
      "  AUC-ROC = 0.8098020979376912\n",
      "est = 11\n",
      "  F1 = 0.5755879059350504\n",
      "  AUC-ROC = 0.8143289668713397\n",
      "est = 12\n",
      "  F1 = 0.5842424242424242\n",
      "  AUC-ROC = 0.8134243642718219\n",
      "est = 13\n",
      "  F1 = 0.5774804905239688\n",
      "  AUC-ROC = 0.814951314951315\n",
      "est = 14\n",
      "  F1 = 0.596153846153846\n",
      "  AUC-ROC = 0.8190740817859462\n",
      "est = 15\n",
      "  F1 = 0.5873015873015873\n",
      "  AUC-ROC = 0.8228521279368737\n",
      "est = 16\n",
      "  F1 = 0.5941320293398533\n",
      "  AUC-ROC = 0.8263895636776992\n",
      "est = 17\n",
      "  F1 = 0.5969802555168408\n",
      "  AUC-ROC = 0.831430814481662\n",
      "est = 18\n",
      "  F1 = 0.6063569682151589\n",
      "  AUC-ROC = 0.8347685127346144\n",
      "est = 19\n",
      "  F1 = 0.6129032258064515\n",
      "  AUC-ROC = 0.8377021088885495\n",
      "est = 20\n",
      "  F1 = 0.6127864897466828\n",
      "  AUC-ROC = 0.8386668640905929\n"
     ]
    }
   ],
   "source": [
    "for est in range(1, 21):\n",
    "    model = RandomForestClassifier(random_state=12345, n_estimators=est)\n",
    "    model.fit(features_balanced, target_balanced)\n",
    "    predictions_valid = model.predict(features_valid)\n",
    "    probabilities_valid = model.predict_proba(features_valid)\n",
    "    probabilities_one_valid = probabilities_valid[:, 1]\n",
    "    f1 = f1_score(target_valid, predictions_valid)\n",
    "    auc_roc = roc_auc_score(target_valid, probabilities_one_valid)\n",
    "    print(\"est =\", est)\n",
    "    print('  F1 =', f1)\n",
    "    print('  AUC-ROC =', auc_roc)\n"
   ]
  },
  {
   "cell_type": "code",
   "execution_count": 35,
   "metadata": {},
   "outputs": [],
   "source": [
    "model = RandomForestClassifier(random_state=12345, n_estimators=19)\n",
    "model.fit(features_balanced, target_balanced)\n",
    "    \n",
    "probabilities_valid = model.predict_proba(features_valid)\n",
    "probabilities_one_valid = probabilities_valid[:, 1]\n"
   ]
  },
  {
   "cell_type": "code",
   "execution_count": 36,
   "metadata": {},
   "outputs": [
    {
     "data": {
      "image/png": "[encoded data removed]",
      "text/plain": [
       "<Figure size 432x288 with 1 Axes>"
      ]
     },
     "metadata": {
      "needs_background": "light"
     },
     "output_type": "display_data"
    }
   ],
   "source": [
    "fpr, tpr, thresholds = roc_curve(target_valid, probabilities_one_valid)\n",
    "\n",
    "plt.figure()\n",
    "\n",
    "plt.plot(fpr, tpr)\n",
    "plt.xlim([0.0, 1.0])\n",
    "plt.ylim([0.0, 1.0])\n",
    "plt.xlabel('False Positive Rate')\n",
    "plt.ylabel('True Positive Rate')\n",
    "plt.title('ROC-кривая')\n",
    "plt.show() "
   ]
  },
  {
   "cell_type": "markdown",
   "metadata": {},
   "source": [
    "Модель случайного леса показала наилучший результат  F1 = 0.6129032258064515 AUC-ROC = 0.8377021088885495 при n_estimators=19"
   ]
  },
  {
   "cell_type": "markdown",
   "metadata": {},
   "source": [
    "Проверяю модель логистической регрессии на сбалансированных данных."
   ]
  },
  {
   "cell_type": "code",
   "execution_count": 37,
   "metadata": {},
   "outputs": [
    {
     "name": "stdout",
     "output_type": "stream",
     "text": [
      "itr = 500\n",
      "  F1 = 0.5058087578194818\n",
      "  AUC-ROC = 0.7604075570177264\n",
      "itr = 600\n",
      "  F1 = 0.5058087578194818\n",
      "  AUC-ROC = 0.7604075570177264\n",
      "itr = 700\n",
      "  F1 = 0.5058087578194818\n",
      "  AUC-ROC = 0.7604075570177264\n",
      "itr = 800\n",
      "  F1 = 0.5058087578194818\n",
      "  AUC-ROC = 0.7604075570177264\n",
      "itr = 900\n",
      "  F1 = 0.5058087578194818\n",
      "  AUC-ROC = 0.7604075570177264\n"
     ]
    }
   ],
   "source": [
    "for itr in range(500, 1000, 100):\n",
    "    model = LogisticRegression(random_state=12345, solver='liblinear', max_iter=itr)\n",
    "    model.fit(features_balanced, target_balanced)\n",
    "    predictions_valid = model.predict(features_valid)\n",
    "    probabilities_valid = model.predict_proba(features_valid)\n",
    "    probabilities_one_valid = probabilities_valid[:, 1]\n",
    "    f1 = f1_score(target_valid, predictions_valid)\n",
    "    auc_roc = roc_auc_score(target_valid, probabilities_one_valid)\n",
    "    print(\"itr =\", itr)\n",
    "    print('  F1 =', f1)\n",
    "    print('  AUC-ROC =', auc_roc)\n"
   ]
  },
  {
   "cell_type": "markdown",
   "metadata": {},
   "source": [
    "<div style=\"border:solid purple 5px; padding: 20px\"> \n",
    "<h2 align=\"center\"> Рубрика «Питонячий лайфхакер» <a class=\"tocSkip\"> </h2>\n",
    "\n",
    "<h3> Индикаторы состояния: progress и tqdm <a class=\"tocSkip\"> </h3>\n",
    "\n",
    "Как перестать беспокоиться о том, не завис ли скрипт? Вы можете создавать свои индикаторы состояния. Это весьма увлекательное занятие. Но делать то же самое с [progress](https://pypi.org/project/progress/) (ее обычно используют для работы из консоли) или [tqdm](https://pypi.org/project/tqdm/) (отлично подойдет для тетрадок) куда быстрее и надежнее.\n",
    "\n",
    "Обычно я использую эти две библиотеки, но вот [здесь](https://habr.com/ru/post/483400/) ты можешь почитать про альтернативные варианты\n",
    "\n",
    "![](https://i.ibb.co/B4SDm8Y/68747470733a2f2f7261772e6769746875622e636f6d2f7665726967616b2f70726f67726573732f6d61737465722f64656d.gif)"
   ]
  },
  {
   "cell_type": "code",
   "execution_count": 38,
   "metadata": {},
   "outputs": [],
   "source": [
    "model = LogisticRegression(random_state=12345, solver='liblinear', max_iter=500)\n",
    "model.fit(features_balanced, target_balanced)\n",
    "\n",
    "probabilities_valid = model.predict_proba(features_valid)\n",
    "probabilities_one_valid = probabilities_valid[:, 1]\n"
   ]
  },
  {
   "cell_type": "code",
   "execution_count": 39,
   "metadata": {},
   "outputs": [
    {
     "data": {
      "image/png": "[encoded data removed]",
      "text/plain": [
       "<Figure size 432x288 with 1 Axes>"
      ]
     },
     "metadata": {
      "needs_background": "light"
     },
     "output_type": "display_data"
    }
   ],
   "source": [
    "fpr, tpr, thresholds = roc_curve(target_valid, probabilities_one_valid)\n",
    "\n",
    "plt.figure()\n",
    "\n",
    "plt.plot(fpr, tpr)\n",
    "plt.xlim([0.0, 1.0])\n",
    "plt.ylim([0.0, 1.0])\n",
    "plt.xlabel('False Positive Rate')\n",
    "plt.ylabel('True Positive Rate')\n",
    "plt.title('ROC-кривая')\n",
    "plt.show() "
   ]
  },
  {
   "cell_type": "markdown",
   "metadata": {},
   "source": [
    "Модель логистической регрессии показала наилучший результат F1 = 0.5058087578194818 AUC-ROC = 0.7604075570177264 при max_iter=500"
   ]
  },
  {
   "cell_type": "markdown",
   "metadata": {},
   "source": [
    "## Вывод"
   ]
  },
  {
   "cell_type": "markdown",
   "metadata": {},
   "source": [
    "На сбалансированных данных наилучший результат достигнут моделью случайного леса F1 = 0.6129032258064515 AUC-ROC = 0.8377021088885495 при n_estimators=19"
   ]
  },
  {
   "cell_type": "markdown",
   "metadata": {},
   "source": [
    "<div class=\"alert alert-danger\">\n",
    "<h2> Комментарий ревьюера ❌ <a class=\"tocSkip\"> </h2>\n",
    "\n",
    "В проекте просят протестировать несколько методов борьбы с дисбалансом. downsample ты реализовал, а upsample нет. Также можно попробовать встроенный функционал-гипперпараметр `class_weight='balanced'`"
   ]
  },
  {
   "cell_type": "markdown",
   "metadata": {},
   "source": [
    "## Тестирование модели"
   ]
  },
  {
   "cell_type": "markdown",
   "metadata": {},
   "source": [
    "Проверяю модель случайного леса с n_estimators=19 на тестовой выборке."
   ]
  },
  {
   "cell_type": "code",
   "execution_count": 40,
   "metadata": {},
   "outputs": [
    {
     "name": "stdout",
     "output_type": "stream",
     "text": [
      "F1-мера: 0.3024785027819929\n",
      "AUC-ROC: 0.4186598000157322\n"
     ]
    }
   ],
   "source": [
    "model = RandomForestClassifier(random_state=12345, n_estimators=19)\n",
    "model.fit(features_balanced, target_balanced)\n",
    "predictions_test = model.predict(features_test) \n",
    "probabilities_test = model.predict_proba(features_test)\n",
    "probabilities_one_test = probabilities_test[:, 1]\n",
    "\n",
    "f1 = f1_score(target_test, predictions_test)\n",
    "auc_roc = roc_auc_score(target_test, probabilities_one_test)\n",
    "\n",
    "print(\"F1-мера:\", f1)\n",
    "print(\"AUC-ROC:\", auc_roc)"
   ]
  },
  {
   "cell_type": "markdown",
   "metadata": {},
   "source": [
    "Данные метрик неудовлетворительные. Это связано, скорее всего, с тем, что модель обучалась на масштабированных данных, а прогноз делается не на масштабированных. Поэтому масштабирую тестовые данные при помощи техники upsampling."
   ]
  },
  {
   "cell_type": "markdown",
   "metadata": {},
   "source": [
    "<div class=\"alert alert-danger\">\n",
    "<h2> Комментарий ревьюера ❌ <a class=\"tocSkip\"> </h2>\n",
    "\n",
    "Не совсем правильно.Низкие метрики связаны с тем, что обучающую выборку ты стандартизируешь через StandardScaler, а тестовую нет. Масштабирование тестовой выборки через upsampling здесь никак не поможет, это нужжно убрать"
   ]
  },
  {
   "cell_type": "code",
   "execution_count": 41,
   "metadata": {},
   "outputs": [
    {
     "name": "stdout",
     "output_type": "stream",
     "text": [
      "(1593, 2942)\n",
      "(814, 2942)\n",
      "(1593,)\n",
      "(814,)\n"
     ]
    }
   ],
   "source": [
    "features_test_upsampled, target_test_upsampled = upsample(features_test, target_test, 2)\n",
    "\n",
    "features_zeros = features_test_upsampled[target_test_upsampled == 0] \n",
    "features_ones = features_test_upsampled[target_test_upsampled == 1] \n",
    "target_zeros = target_test_upsampled[target_test_upsampled == 0] \n",
    "target_ones = target_test_upsampled[target_test_upsampled == 1] \n",
    "\n",
    "print(features_zeros.shape)\n",
    "print(features_ones.shape)\n",
    "print(target_zeros.shape)\n",
    "print(target_ones.shape)"
   ]
  },
  {
   "cell_type": "markdown",
   "metadata": {},
   "source": [
    "Масштабирую тестовую выборку при помощи техники downsampling."
   ]
  },
  {
   "cell_type": "code",
   "execution_count": 42,
   "metadata": {},
   "outputs": [
    {
     "name": "stdout",
     "output_type": "stream",
     "text": [
      "(814, 2942)\n",
      "(814, 2942)\n",
      "(814,)\n",
      "(814,)\n"
     ]
    }
   ],
   "source": [
    "features_test_balanced, target_test_balanced = downsample(features_test_upsampled, target_test_upsampled, 0.511)\n",
    "\n",
    "features_zeros = features_test_balanced[target_test_balanced == 0] \n",
    "features_ones = features_test_balanced[target_test_balanced == 1] \n",
    "target_zeros = target_test_balanced[target_test_balanced == 0] \n",
    "target_ones = target_test_balanced[target_test_balanced == 1] \n",
    "\n",
    "print(features_zeros.shape)\n",
    "print(features_ones.shape)\n",
    "print(target_zeros.shape)\n",
    "print(target_ones.shape)"
   ]
  },
  {
   "cell_type": "markdown",
   "metadata": {},
   "source": [
    "Провожу финальное тестировоание на сбалансированной выборке. При этом изменяю значение порога в цикле."
   ]
  },
  {
   "cell_type": "code",
   "execution_count": 43,
   "metadata": {},
   "outputs": [
    {
     "name": "stdout",
     "output_type": "stream",
     "text": [
      "Порог = 0.00 | Точность = 0.500, Полнота = 1.000, F1 = 0.667\n",
      "Порог = 0.02 | Точность = 0.500, Полнота = 1.000, F1 = 0.667\n",
      "Порог = 0.04 | Точность = 0.500, Полнота = 1.000, F1 = 0.667\n",
      "Порог = 0.06 | Точность = 0.500, Полнота = 1.000, F1 = 0.667\n",
      "Порог = 0.08 | Точность = 0.500, Полнота = 1.000, F1 = 0.667\n",
      "Порог = 0.10 | Точность = 0.500, Полнота = 1.000, F1 = 0.667\n",
      "Порог = 0.12 | Точность = 0.500, Полнота = 1.000, F1 = 0.667\n",
      "Порог = 0.14 | Точность = 0.500, Полнота = 1.000, F1 = 0.667\n",
      "Порог = 0.16 | Точность = 0.500, Полнота = 0.998, F1 = 0.666\n",
      "Порог = 0.18 | Точность = 0.500, Полнота = 0.998, F1 = 0.666\n",
      "Порог = 0.20 | Точность = 0.500, Полнота = 0.998, F1 = 0.666\n",
      "Порог = 0.22 | Точность = 0.499, Полнота = 0.988, F1 = 0.663\n",
      "Порог = 0.24 | Точность = 0.499, Полнота = 0.988, F1 = 0.663\n",
      "Порог = 0.26 | Точность = 0.499, Полнота = 0.988, F1 = 0.663\n",
      "Порог = 0.28 | Точность = 0.497, Полнота = 0.958, F1 = 0.655\n"
     ]
    }
   ],
   "source": [
    "predictions_test = model.predict(features_test_balanced) \n",
    "probabilities_test = model.predict_proba(features_test_balanced)\n",
    "probabilities_one_test = probabilities_test[:, 1]\n",
    "\n",
    "for threshold in np.arange(0, 0.3, 0.02):\n",
    "    predicted_test = probabilities_one_test > threshold \n",
    "    precision = precision_score(target_test_balanced, predicted_test)\n",
    "    recall = recall_score(target_test_balanced, predicted_test)\n",
    "    f1 = 2 * precision * recall / (precision + recall) \n",
    "\n",
    "    print(\"Порог = {:.2f} | Точность = {:.3f}, Полнота = {:.3f}, F1 = {:.3f}\".format(\n",
    "        threshold, precision, recall, f1))"
   ]
  },
  {
   "cell_type": "markdown",
   "metadata": {},
   "source": [
    "## Вывод"
   ]
  },
  {
   "cell_type": "markdown",
   "metadata": {},
   "source": [
    "Модель для прогнозирования оттока построена и обучена. Наилучшее значение F1 меры, полученное в процессе тестирования = 0.667"
   ]
  },
  {
   "cell_type": "markdown",
   "metadata": {},
   "source": [
    "## Чек-лист готовности проекта"
   ]
  },
  {
   "cell_type": "markdown",
   "metadata": {},
   "source": [
    "Поставьте 'x' в выполненных пунктах. Далее нажмите Shift+Enter."
   ]
  },
  {
   "cell_type": "markdown",
   "metadata": {},
   "source": [
    "- [x]  Jupyter Notebook открыт\n",
    "- [x]  Весь код выполняется без ошибок\n",
    "- [x]  Ячейки с кодом расположены в порядке исполнения\n",
    "- [x]  Выполнен шаг 1: данные подготовлены\n",
    "- [x]  Выполнен шаг 2: задача исследована\n",
    "    - [x]  Исследован баланс классов\n",
    "    - [x]  Изучены модели без учёта дисбаланса\n",
    "    - [x]  Написаны выводы по результатам исследования\n",
    "- [x]  Выполнен шаг 3: учтён дисбаланс\n",
    "    - [x]  Применено несколько способов борьбы с дисбалансом\n",
    "    - [x]  Написаны выводы по результатам исследования\n",
    "- [x]  Выполнен шаг 4: проведено тестирование\n",
    "- [x]  Удалось достичь *F1*-меры не менее 0.59\n",
    "- [x]  Исследована метрика *AUC-ROC*"
   ]
  },
  {
   "cell_type": "code",
   "execution_count": null,
   "metadata": {},
   "outputs": [],
   "source": []
  }
 ],
 "metadata": {
  "ExecuteTimeLog": [
   {
    "duration": 1902,
    "start_time": "2022-09-27T14:14:20.122Z"
   },
   {
    "duration": 43,
    "start_time": "2022-09-27T14:14:22.026Z"
   },
   {
    "duration": 23,
    "start_time": "2022-09-27T14:14:22.071Z"
   },
   {
    "duration": 19,
    "start_time": "2022-09-27T14:14:22.096Z"
   },
   {
    "duration": 5,
    "start_time": "2022-09-27T14:14:22.117Z"
   },
   {
    "duration": 9,
    "start_time": "2022-09-27T14:14:22.124Z"
   },
   {
    "duration": 16,
    "start_time": "2022-09-27T14:14:22.135Z"
   },
   {
    "duration": 7,
    "start_time": "2022-09-27T14:14:22.153Z"
   },
   {
    "duration": 266,
    "start_time": "2022-09-27T14:14:22.162Z"
   },
   {
    "duration": 72,
    "start_time": "2022-09-27T14:14:22.431Z"
   },
   {
    "duration": 64,
    "start_time": "2022-09-27T14:14:22.505Z"
   },
   {
    "duration": 3,
    "start_time": "2022-09-27T14:14:22.571Z"
   },
   {
    "duration": 95,
    "start_time": "2022-09-27T14:14:22.576Z"
   },
   {
    "duration": 4,
    "start_time": "2022-09-27T14:14:22.672Z"
   },
   {
    "duration": 34,
    "start_time": "2022-09-27T14:14:22.677Z"
   },
   {
    "duration": 42,
    "start_time": "2022-09-27T14:14:22.713Z"
   },
   {
    "duration": 6,
    "start_time": "2022-09-27T14:14:22.757Z"
   },
   {
    "duration": 19,
    "start_time": "2022-09-27T14:14:22.765Z"
   },
   {
    "duration": 6743,
    "start_time": "2022-09-27T14:14:22.786Z"
   },
   {
    "duration": 406,
    "start_time": "2022-09-27T14:14:29.531Z"
   },
   {
    "duration": 143,
    "start_time": "2022-09-27T14:14:29.939Z"
   },
   {
    "duration": 20223,
    "start_time": "2022-09-27T14:14:30.084Z"
   },
   {
    "duration": 1255,
    "start_time": "2022-09-27T14:14:50.308Z"
   },
   {
    "duration": 127,
    "start_time": "2022-09-27T14:14:51.565Z"
   },
   {
    "duration": 3907,
    "start_time": "2022-09-27T14:14:51.694Z"
   },
   {
    "duration": 527,
    "start_time": "2022-09-27T14:14:55.604Z"
   },
   {
    "duration": 204,
    "start_time": "2022-09-27T14:14:56.199Z"
   },
   {
    "duration": 36,
    "start_time": "2022-09-27T14:14:56.406Z"
   },
   {
    "duration": 144,
    "start_time": "2022-09-27T14:14:56.444Z"
   },
   {
    "duration": 116,
    "start_time": "2022-09-27T14:14:56.596Z"
   },
   {
    "duration": 4498,
    "start_time": "2022-09-27T14:14:56.714Z"
   },
   {
    "duration": 287,
    "start_time": "2022-09-27T14:15:01.214Z"
   },
   {
    "duration": 123,
    "start_time": "2022-09-27T14:15:01.503Z"
   },
   {
    "duration": 16083,
    "start_time": "2022-09-27T14:15:01.628Z"
   },
   {
    "duration": 1229,
    "start_time": "2022-09-27T14:15:17.712Z"
   },
   {
    "duration": 122,
    "start_time": "2022-09-27T14:15:18.943Z"
   },
   {
    "duration": 3433,
    "start_time": "2022-09-27T14:15:19.067Z"
   },
   {
    "duration": 453,
    "start_time": "2022-09-27T14:15:22.502Z"
   },
   {
    "duration": 299,
    "start_time": "2022-09-27T14:15:22.998Z"
   },
   {
    "duration": 1267,
    "start_time": "2022-09-27T14:15:23.299Z"
   },
   {
    "duration": 52,
    "start_time": "2022-09-27T14:15:24.568Z"
   },
   {
    "duration": 42,
    "start_time": "2022-09-27T14:15:24.622Z"
   },
   {
    "duration": 160,
    "start_time": "2022-09-27T14:15:24.666Z"
   },
   {
    "duration": 19,
    "start_time": "2022-09-27T15:30:10.183Z"
   },
   {
    "duration": 7,
    "start_time": "2022-09-27T15:35:02.264Z"
   },
   {
    "duration": 880,
    "start_time": "2022-09-27T15:48:15.489Z"
   },
   {
    "duration": 929,
    "start_time": "2022-09-27T15:48:30.101Z"
   }
  ],
  "kernelspec": {
   "display_name": "Python 3",
   "language": "python",
   "name": "python3"
  },
  "language_info": {
   "codemirror_mode": {
    "name": "ipython",
    "version": 3
   },
   "file_extension": ".py",
   "mimetype": "text/x-python",
   "name": "python",
   "nbconvert_exporter": "python",
   "pygments_lexer": "ipython3",
   "version": "3.10.7"
  },
  "toc": {
   "base_numbering": 1,
   "nav_menu": {},
   "number_sections": true,
   "sideBar": true,
   "skip_h1_title": true,
   "title_cell": "Содержание",
   "title_sidebar": "Contents",
   "toc_cell": true,
   "toc_position": {},
   "toc_section_display": true,
   "toc_window_display": false
  }
 },
 "nbformat": 4,
 "nbformat_minor": 4
}
